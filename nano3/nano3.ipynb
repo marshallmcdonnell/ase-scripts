{
 "cells": [
  {
   "cell_type": "markdown",
   "metadata": {},
   "source": [
    "# CaCO3 structures"
   ]
  },
  {
   "cell_type": "code",
   "execution_count": 3,
   "metadata": {
    "collapsed": true
   },
   "outputs": [],
   "source": [
    "from ase.spacegroup import crystal\n",
    "\n",
    "a =  4.99\n",
    "c = 17.0615\n",
    "caco3 = crystal('CaCO3', [(0.0,0.0,0.0), \n",
    "                          (0.0, 0.0, 0.25), \n",
    "                          (0.2578, 0.0, 0.25)], \n",
    "                spacegroup='R -3 c', \n",
    "                cellpar=[a,a,c,90,90,120])"
   ]
  },
  {
   "cell_type": "code",
   "execution_count": 5,
   "metadata": {
    "collapsed": false
   },
   "outputs": [],
   "source": [
    "from ase.visualize import view\n",
    "view(caco3)"
   ]
  },
  {
   "cell_type": "code",
   "execution_count": 17,
   "metadata": {
    "collapsed": true
   },
   "outputs": [],
   "source": [
    "from ase.io import read\n",
    "caco3_cif = read(\"caco3_r3c.cif\")\n",
    "view(caco3_cif)"
   ]
  },
  {
   "cell_type": "markdown",
   "metadata": {},
   "source": [
    "# NaNO3 structures"
   ]
  },
  {
   "cell_type": "code",
   "execution_count": 2,
   "metadata": {
    "collapsed": false
   },
   "outputs": [
    {
     "name": "stdout",
     "output_type": "stream",
     "text": [
      "Low Temp: T = 541K  {'spacegroup': Spacegroup(167, setting=1), 'unit_cell': 'conventional'}\n",
      "High Temp: T = 563K  {'spacegroup': Spacegroup(166, setting=1), 'unit_cell': 'conventional'}\n"
     ]
    }
   ],
   "source": [
    "from ase.spacegroup import crystal\n",
    "from ase.visualize import view\n",
    "# T = 541K\n",
    "a =  5.082\n",
    "c = 17.31\n",
    "nano3_low = crystal('NaNO', [(0.0,0.0,0.0), \n",
    "                          (0.0, 0.0, 0.25), \n",
    "                          (0.2381, 0.0, 0.25)], \n",
    "                spacegroup='R -3 c', \n",
    "                cellpar=[a,a,c,90,90,120])\n",
    "\n",
    "print \"Low Temp: T = 541K \", nano3_low.info\n",
    "\n",
    "# T = 563K\n",
    "\n",
    "a =  5.084\n",
    "c = 8.175\n",
    "nano3_high = crystal('NaNO', [(0.0,0.0,0.0), \n",
    "                          (0.0, 0.0, 0.5), \n",
    "                          (0.2337, 0.0, 0.5)], \n",
    "                spacegroup='R -3 m', \n",
    "                cellpar=[a,a,c,90,90,120])\n",
    "\n",
    "print \"High Temp: T = 563K \", nano3_high.info"
   ]
  },
  {
   "cell_type": "code",
   "execution_count": 239,
   "metadata": {
    "collapsed": false
   },
   "outputs": [],
   "source": [
    "view(nano3_low)"
   ]
  },
  {
   "cell_type": "code",
   "execution_count": 4,
   "metadata": {
    "collapsed": true
   },
   "outputs": [],
   "source": [
    "view(nano3_high)\n"
   ]
  },
  {
   "cell_type": "markdown",
   "metadata": {},
   "source": [
    "# Create pair list"
   ]
  },
  {
   "cell_type": "code",
   "execution_count": 4,
   "metadata": {
    "collapsed": false
   },
   "outputs": [],
   "source": [
    "pairs = get_pairlist('N', 1.3, nano3_low, 'O')"
   ]
  },
  {
   "cell_type": "code",
   "execution_count": 5,
   "metadata": {
    "collapsed": false
   },
   "outputs": [
    {
     "name": "stdout",
     "output_type": "stream",
     "text": [
      "NO bonds: 18\n",
      "   pair:  6 14 dist: 1.21\n",
      "   pair:  6 13 dist: 1.21\n",
      "   pair:  6 12 dist: 1.21\n",
      "   pair:  7 16 dist: 1.21\n",
      "   pair:  7 17 dist: 1.21\n",
      "   pair:  7 15 dist: 1.21\n",
      "   pair:  8 19 dist: 1.21\n",
      "   pair:  8 20 dist: 1.21\n",
      "   pair:  8 18 dist: 1.21\n",
      "   pair:  9 22 dist: 1.21\n",
      "   pair:  9 21 dist: 1.21\n",
      "   pair:  9 23 dist: 1.21\n",
      "   pair: 10 26 dist: 1.21\n",
      "   pair: 10 24 dist: 1.21\n",
      "   pair: 10 25 dist: 1.21\n",
      "   pair: 11 29 dist: 1.21\n",
      "   pair: 11 27 dist: 1.21\n",
      "   pair: 11 28 dist: 1.21\n"
     ]
    }
   ],
   "source": [
    "print \"NO bonds:\", len(pairs)\n",
    "for pair in pairs:\n",
    "    print \"   pair: {0:>2} {1:>2} dist: {2:04.2f}\".format(pair[0], pair[1], pair[2])"
   ]
  },
  {
   "cell_type": "markdown",
   "metadata": {},
   "source": [
    "# Set nitrate NO bonds from 1.21 -> 1.25 using pair list"
   ]
  },
  {
   "cell_type": "code",
   "execution_count": 6,
   "metadata": {
    "collapsed": true
   },
   "outputs": [],
   "source": [
    "bond_length=1.25 \n",
    "# For fix:\n",
    "#   0   = fixes the 1st atom \n",
    "#   0.5 = fixes center of bond\n",
    "#   1   = fixes 2nd atom\n",
    "\n",
    "for pair in pairs:\n",
    "    nano3_low.set_distance(pair[0], pair[1], bond_length, fix=0, mic=True)"
   ]
  },
  {
   "cell_type": "code",
   "execution_count": 7,
   "metadata": {
    "collapsed": false
   },
   "outputs": [],
   "source": [
    "pairs = get_pairlist('N', 1.3, nano3_low, 'O')"
   ]
  },
  {
   "cell_type": "code",
   "execution_count": 8,
   "metadata": {
    "collapsed": false
   },
   "outputs": [
    {
     "name": "stdout",
     "output_type": "stream",
     "text": [
      "NO bonds: 18\n",
      "   pair:  6 14 dist: 1.25\n",
      "   pair:  6 13 dist: 1.25\n",
      "   pair:  6 12 dist: 1.25\n",
      "   pair:  7 16 dist: 1.25\n",
      "   pair:  7 17 dist: 1.25\n",
      "   pair:  7 15 dist: 1.25\n",
      "   pair:  8 19 dist: 1.25\n",
      "   pair:  8 20 dist: 1.25\n",
      "   pair:  8 18 dist: 1.25\n",
      "   pair:  9 22 dist: 1.25\n",
      "   pair:  9 21 dist: 1.25\n",
      "   pair:  9 23 dist: 1.25\n",
      "   pair: 10 26 dist: 1.25\n",
      "   pair: 10 24 dist: 1.25\n",
      "   pair: 10 25 dist: 1.25\n",
      "   pair: 11 29 dist: 1.25\n",
      "   pair: 11 27 dist: 1.25\n",
      "   pair: 11 28 dist: 1.25\n"
     ]
    }
   ],
   "source": [
    "print \"NO bonds:\", len(pairs)\n",
    "for pair in pairs:\n",
    "    print \"   pair: {0:>2} {1:>2} dist: {2:04.2f}\".format(pair[0], pair[1], pair[2])"
   ]
  },
  {
   "cell_type": "markdown",
   "metadata": {},
   "source": [
    "# Create molecules from pair list"
   ]
  },
  {
   "cell_type": "code",
   "execution_count": 11,
   "metadata": {
    "collapsed": false
   },
   "outputs": [
    {
     "name": "stdout",
     "output_type": "stream",
     "text": [
      "0 Na 0\n",
      "1 Na 1\n",
      "2 Na 2\n",
      "3 Na 3\n",
      "4 Na 4\n",
      "5 Na 5\n",
      "6 N 6\n",
      "7 N 7\n",
      "8 N 8\n",
      "9 N 9\n",
      "10 N 10\n",
      "11 N 11\n",
      "12 O 6\n",
      "13 O 6\n",
      "14 O 6\n",
      "15 O 7\n",
      "16 O 7\n",
      "17 O 7\n",
      "18 O 8\n",
      "19 O 8\n",
      "20 O 8\n",
      "21 O 9\n",
      "22 O 9\n",
      "23 O 9\n",
      "24 O 10\n",
      "25 O 10\n",
      "26 O 10\n",
      "27 O 11\n",
      "28 O 11\n",
      "29 O 11\n"
     ]
    }
   ],
   "source": [
    "atom=None\n",
    "molecule_ids = [None]*len(nano3_low)\n",
    "molecule_counter = 0\n",
    "for atomI in nano3_low:\n",
    "    list1 = [pair[1] for pair in pairs if atomI.index == pair[0]]\n",
    "    list2 = [pair[0] for pair in pairs if atomI.index == pair[1]]\n",
    "    bonded_list = list1 + list2\n",
    "    if bonded_list:\n",
    "        assigned = [ molecule_ids[i] for i in bonded_list+[atomI.index]]\n",
    "        \n",
    "        if not any(assigned):\n",
    "            for i in bonded_list+[atomI.index]:\n",
    "                molecule_ids[i] = molecule_counter\n",
    "            molecule_counter += 1\n",
    "        else:\n",
    "            molecule_id = set(uid for uid in assigned if uid is not None)\n",
    "            assert(len(molecule_id) == 1)\n",
    "            for i in bonded_list+[atomI.index]:\n",
    "                molecule_ids[i] = list(molecule_id)[0]\n",
    "    else:\n",
    "        if not molecule_ids[atomI.index]:\n",
    "            molecule_ids[atomI.index] = molecule_counter\n",
    "        molecule_counter += 1\n",
    "        \n",
    "for atom in nano3_low:\n",
    "    print atom.index, atom.symbol, molecule_ids[atom.index]"
   ]
  },
  {
   "cell_type": "code",
   "execution_count": 238,
   "metadata": {
    "collapsed": false
   },
   "outputs": [
    {
     "name": "stdout",
     "output_type": "stream",
     "text": [
      "0 0\n",
      "1 1\n",
      "2 2\n",
      "3 3\n",
      "4 4\n",
      "5 5\n",
      "6 6\n",
      "7 6\n",
      "8 6\n",
      "9 6\n",
      "10 6\n",
      "11 6\n",
      "12 6\n",
      "13 6\n",
      "14 6\n",
      "15 6\n",
      "16 6\n",
      "17 6\n",
      "18 6\n",
      "19 6\n",
      "20 6\n",
      "21 6\n",
      "22 6\n",
      "23 6\n",
      "24 6\n",
      "25 6\n",
      "26 6\n",
      "27 6\n",
      "28 6\n",
      "29 6\n"
     ]
    }
   ],
   "source": [
    "for atomI in nano3_low:\n",
    "    print atomI.index, molecule_ids[atomI.index]"
   ]
  },
  {
   "cell_type": "markdown",
   "metadata": {},
   "source": [
    "# NaNO3 MD model"
   ]
  },
  {
   "cell_type": "code",
   "execution_count": 1,
   "metadata": {
    "collapsed": false
   },
   "outputs": [],
   "source": [
    "import itertools\n",
    "import numpy as np\n",
    "from ase import Atoms\n",
    "from ase.units import kJ, kcal, mol\n",
    "from ase.spacegroup import crystal\n",
    "from ase.pairlist import get_pairlist\n",
    "\n",
    "class McDonaldNaNO3(object):\n",
    "    def __init__(self, supercell=[1,1,1], cif_file=None):\n",
    "        self.description = \"Sodim Nitrate model for crystalline odered-disordered transition\"\n",
    "        self.citation = { \"authors\" : [ {\"Last\" : \"Lynden-Bell\", \"First\" : \"R M\"},\n",
    "                                        {\"Last\" : \"Ferrario\", \"First\" : \"M \"},\n",
    "                                        {\"Last\" : \"McDonald\", \"First\" : \"I R\"} ],\n",
    "                          \"journal\" : \"Journal of Physics: Condensed Matter\",\n",
    "                          \"year\" : 1989,\n",
    "                          \"volume\" : 1,\n",
    "                          \"pages\" : 6523-6542\n",
    "                        }\n",
    "        # model parameters\n",
    "        a =  5.082\n",
    "        c = 17.31\n",
    "        self._lat_params = [a,a,c,90,90,120]\n",
    "        self._no_bond_length=1.25 # N-O bond length\n",
    "        \n",
    "        # initialization\n",
    "        self._unit_cell = None\n",
    "        self._supercell = supercell\n",
    "        self._mol_ids = list()\n",
    "        self._molecule_counter = 1\n",
    "        \n",
    "        self._makeUnitCell(cif_file)\n",
    "        self._makeSuperCell()\n",
    "        \n",
    "            \n",
    "    def _makeMolecules(self,atoms,pairs):\n",
    "        molecule_ids = [None]*len(atoms)\n",
    "        molecule_counter = 0\n",
    "        for atomI in atoms:\n",
    "            list1 = [pair[1] for pair in pairs if atomI.index == pair[0]]\n",
    "            list2 = [pair[0] for pair in pairs if atomI.index == pair[1]]\n",
    "            bonded_list = list1 + list2\n",
    "            if bonded_list:\n",
    "                assigned = [ molecule_ids[i] for i in bonded_list+[atomI.index]]\n",
    "\n",
    "                if not any(assigned):\n",
    "                    for i in bonded_list+[atomI.index]:\n",
    "                        molecule_ids[i] = molecule_counter\n",
    "                    molecule_counter += 1\n",
    "                else:\n",
    "                    molecule_id = set(uid for uid in assigned if uid is not None)\n",
    "                    assert(len(molecule_id) == 1)\n",
    "                    for i in bonded_list+[atomI.index]:\n",
    "                        molecule_ids[i] = list(molecule_id)[0]\n",
    "            else:\n",
    "                if not molecule_ids[atomI.index]:\n",
    "                    molecule_ids[atomI.index] = molecule_counter\n",
    "                molecule_counter += 1\n",
    "        return molecule_ids, molecule_counter\n",
    "        \n",
    "    def _makeUnitCell(self,cif_file):\n",
    "        if cif_file:\n",
    "            atoms = read(cif_file)\n",
    "        else:\n",
    "            \n",
    "            atoms = crystal('NaNO', [(0.0,0.0,0.0), \n",
    "                                     (0.0, 0.0, 0.25), \n",
    "                                     (0.2381, 0.0,0.25)], \n",
    "                                      spacegroup='R -3 c', \n",
    "                                      cellpar=self._lat_params)\n",
    "        print \"atoms cell:\", atoms.cell\n",
    "            \n",
    "        # Get N-O pairs within 1.3 Angstroms and set bond distance to 1.25 Angstroms\n",
    "        pairs = get_pairlist('N', 1.3, atoms, 'O')\n",
    "        for pair in pairs:\n",
    "            atoms.set_distance(pair[0], pair[1], self._no_bond_length, fix=0, mic=True)\n",
    "            \n",
    "        # Make molecules from atoms based on input pairs list\n",
    "        mol_ids, cnt = self._makeMolecules(atoms, pairs)\n",
    "        \n",
    "        # Set global\n",
    "        self._molecules_per_unit_cell = cnt\n",
    "        self._mol_ids_unit_cell = list(mol_ids)\n",
    "        self._unit_cell = atoms\n",
    "        \n",
    "    def _getUnitCell(self):\n",
    "        if not self._unit_cell:\n",
    "            self._makeUnitCell()\n",
    "        return self._unit_cell.copy()\n",
    "    \n",
    "    def _addUnitCell(self,ix,iy,iz):\n",
    "        lat = self._lat_params\n",
    "        vector  = ix*self._unit_cell.cell[0]\n",
    "        vector += iy*self._unit_cell.cell[1]\n",
    "        vector += iz*self._unit_cell.cell[2]\n",
    "        #vector = [ix*lat[0], iy*lat[1], iz*lat[2]]\n",
    "        print vector\n",
    "        unitCell = self._getUnitCell()\n",
    "        unitCell.translate(vector)\n",
    "        self.system = self.system + unitCell\n",
    "        \n",
    "    def _makeSuperCell(self):\n",
    "        lat = self._lat_params\n",
    "        sc  = self._supercell\n",
    "        self.system = Atoms(cell=[sc[0]*lat[0],sc[1]*lat[1],sc[2]*lat[2],\n",
    "                                  lat[3], lat[4], lat[5]], \n",
    "                            pbc=[1,1,1])\n",
    "        \n",
    "        ix = 0\n",
    "        iy = 0\n",
    "        iz = 0\n",
    "        for ix in range(sc[0]):\n",
    "            for iy in range(sc[1]):\n",
    "                for iz in range(sc[2]):\n",
    "                    self._addUnitCell(ix,iy,iz)\n",
    "                    mol_ids = [  mol + self._molecule_counter for mol in self._mol_ids_unit_cell]\n",
    "                    self._mol_ids += mol_ids\n",
    "                    self._molecule_counter += self._molecules_per_unit_cell\n",
    "\n",
    "\n",
    "            \n",
    "    def lammpsParameters(self):\n",
    "        # Simulation Parameters\n",
    "        types = {'Na': 1, 'N': 2, 'O': 3}\n",
    "        \n",
    "        # Force field in units from reference (Table 1)\n",
    "        #    multiples of electron charge\n",
    "        charge_types = {'Na':1.00, 'N':0.95, 'O':-0.65}\n",
    "        charges = [ charge_types[atom.symbol] for atom in self.system ]\n",
    "        \n",
    "        #      a          kJ*mol^-1     Ang^-1       kJ/mol*Ang^6\n",
    "        ff = { 1 : {1 : {'A':3.1696e4, 'rho':3.155, 'B': 101}},\n",
    "               2 : {2 : {'A':1.4080e5, 'rho':3.780, 'B':1084}},\n",
    "               3 : {3 : {'A':2.9250e5, 'rho':4.180, 'B':1085}}\n",
    "             }\n",
    "        \n",
    "        # Conversion to LAMMPS 'real' units\n",
    "        for i in ff:\n",
    "            ff[i][i]['A'] = ff[i][i]['A'] * (kJ/mol) / (kcal/mol) # units: kcal * mol^-1\n",
    "            ff[i][i]['B'] = ff[i][i]['B'] * (kJ/mol) / (kcal/mol) # units: kcal * mol^-1 * Angstrom^6\n",
    "            \n",
    "        # Mixing to get I-J parameters\n",
    "        for i in ff:\n",
    "            for j in ff:\n",
    "                params_ij = { 'A'   : np.sqrt(ff[i][i]['A']   * ff[j][j]['A']  ),\n",
    "                              'rho' : np.sqrt(ff[i][i]['rho'] + ff[j][j]['rho']),\n",
    "                              'B'   : np.sqrt(ff[i][i]['B']   * ff[j][j]['B']  )\n",
    "                            }\n",
    "                ff[i][j] = params_ij\n",
    "                \n",
    "        # Pair_coeff commands\n",
    "        pair_coeff = list()\n",
    "        for pair in itertools.combinations_with_replacement(ff,2):\n",
    "            i = pair[0]\n",
    "            j = pair[1]\n",
    "            pair_coeff.append(\"pair_coeff {0} {1} {A:.4f} {rho:.4f} {B:.4f}\".format(i, j, **ff[i][j]))\n",
    "            \n",
    "\n",
    "        # LAMMPS input\n",
    "        header = ['units real',\n",
    "                  'atom_style full',\n",
    "                  'bond_style harmonic',\n",
    "                  'kspace_style ewald/disp 1.0e-4',\n",
    "                  'atom_modify map array sort 0 0']\n",
    "\n",
    "        cmds  = [\"pair_style buck/long/coul/long long long 10.0\"] + pair_coeff\n",
    "        cmds += [\"bond_coeff * 100.0 1.565\",\n",
    "                 \"fix 1 all nve\",\n",
    "                 \"group NO3 type 2:3\",\n",
    "                 \"fix 2 NO3 rigid/nve/small molecule\"]\n",
    "\n",
    "        params = { 'types' : types,\n",
    "                   'charges' : charges,\n",
    "                   'commands' : {'header' : header,\n",
    "                                 'body'   : cmds }\n",
    "                 }\n",
    "        return params\n"
   ]
  },
  {
   "cell_type": "code",
   "execution_count": 2,
   "metadata": {
    "collapsed": false
   },
   "outputs": [
    {
     "name": "stdout",
     "output_type": "stream",
     "text": [
      "atoms cell: [[  5.082       0.          0.       ]\n",
      " [ -2.541       4.4011411   0.       ]\n",
      " [  0.          0.         17.31     ]]\n",
      "[ 0.  0.  0.]\n",
      "[ 5.082  0.     0.   ]\n"
     ]
    },
    {
     "ename": "NameError",
     "evalue": "name 'view' is not defined",
     "output_type": "error",
     "traceback": [
      "\u001b[0;31m---------------------------------------------------------------------------\u001b[0m",
      "\u001b[0;31mNameError\u001b[0m                                 Traceback (most recent call last)",
      "\u001b[0;32m<ipython-input-2-5ec9c5a7a813>\u001b[0m in \u001b[0;36m<module>\u001b[0;34m()\u001b[0m\n\u001b[1;32m      1\u001b[0m \u001b[0mnano3\u001b[0m \u001b[0;34m=\u001b[0m \u001b[0mMcDonaldNaNO3\u001b[0m\u001b[0;34m(\u001b[0m\u001b[0msupercell\u001b[0m\u001b[0;34m=\u001b[0m\u001b[0;34m[\u001b[0m\u001b[0;36m2\u001b[0m\u001b[0;34m,\u001b[0m\u001b[0;36m1\u001b[0m\u001b[0;34m,\u001b[0m\u001b[0;36m1\u001b[0m\u001b[0;34m]\u001b[0m\u001b[0;34m)\u001b[0m\u001b[0;34m\u001b[0m\u001b[0m\n\u001b[0;32m----> 2\u001b[0;31m \u001b[0mview\u001b[0m\u001b[0;34m(\u001b[0m\u001b[0mnano3\u001b[0m\u001b[0;34m.\u001b[0m\u001b[0msystem\u001b[0m\u001b[0;34m)\u001b[0m\u001b[0;34m\u001b[0m\u001b[0m\n\u001b[0m",
      "\u001b[0;31mNameError\u001b[0m: name 'view' is not defined"
     ]
    }
   ],
   "source": [
    "nano3 = McDonaldNaNO3(supercell=[2,1,1])\n",
    "view(nano3.system)"
   ]
  },
  {
   "cell_type": "code",
   "execution_count": 3,
   "metadata": {
    "collapsed": false
   },
   "outputs": [
    {
     "name": "stdout",
     "output_type": "stream",
     "text": [
      "atoms cell: [[  5.082       0.          0.       ]\n",
      " [ -2.541       4.4011411   0.       ]\n",
      " [  0.          0.         17.31     ]]\n",
      "[ 0.  0.  0.]\n",
      "[ 5.082  0.     0.   ]\n",
      "i: 6 7 j: 13 8\n",
      "i: 6 7 j: 12 8\n",
      "i: 6 7 j: 44 8\n",
      "i: 7 7 j: 15 8\n",
      "i: 7 7 j: 16 8\n",
      "i: 7 7 j: 17 8\n",
      "i: 8 7 j: 18 8\n",
      "i: 8 7 j: 19 8\n",
      "i: 8 7 j: 20 8\n",
      "i: 9 7 j: 23 8\n",
      "i: 9 7 j: 22 8\n",
      "i: 9 7 j: 51 8\n",
      "i: 10 7 j: 24 8\n",
      "i: 10 7 j: 25 8\n",
      "i: 10 7 j: 26 8\n",
      "i: 11 7 j: 27 8\n",
      "i: 11 7 j: 28 8\n",
      "i: 11 7 j: 29 8\n",
      "i: 12 8 j: 6 7\n",
      "i: 13 8 j: 6 7\n",
      "i: 14 8 j: 36 7\n",
      "i: 15 8 j: 7 7\n",
      "i: 16 8 j: 7 7\n",
      "i: 17 8 j: 7 7\n",
      "i: 18 8 j: 8 7\n",
      "i: 19 8 j: 8 7\n",
      "i: 20 8 j: 8 7\n",
      "i: 21 8 j: 39 7\n",
      "i: 22 8 j: 9 7\n",
      "i: 23 8 j: 9 7\n",
      "i: 24 8 j: 10 7\n",
      "i: 25 8 j: 10 7\n",
      "i: 26 8 j: 10 7\n",
      "i: 27 8 j: 11 7\n",
      "i: 28 8 j: 11 7\n",
      "i: 29 8 j: 11 7\n",
      "i: 36 7 j: 42 8\n",
      "i: 36 7 j: 43 8\n",
      "i: 36 7 j: 14 8\n",
      "i: 37 7 j: 45 8\n",
      "i: 37 7 j: 46 8\n",
      "i: 37 7 j: 47 8\n",
      "i: 38 7 j: 48 8\n",
      "i: 38 7 j: 49 8\n",
      "i: 38 7 j: 50 8\n",
      "i: 39 7 j: 52 8\n",
      "i: 39 7 j: 53 8\n",
      "i: 39 7 j: 21 8\n",
      "i: 40 7 j: 54 8\n",
      "i: 40 7 j: 55 8\n",
      "i: 40 7 j: 56 8\n",
      "i: 41 7 j: 57 8\n",
      "i: 41 7 j: 58 8\n",
      "i: 41 7 j: 59 8\n",
      "i: 42 8 j: 36 7\n",
      "i: 43 8 j: 36 7\n",
      "i: 44 8 j: 6 7\n",
      "i: 45 8 j: 37 7\n",
      "i: 46 8 j: 37 7\n",
      "i: 47 8 j: 37 7\n",
      "i: 48 8 j: 38 7\n",
      "i: 49 8 j: 38 7\n",
      "i: 50 8 j: 38 7\n",
      "i: 51 8 j: 9 7\n",
      "i: 52 8 j: 39 7\n",
      "i: 53 8 j: 39 7\n",
      "i: 54 8 j: 40 7\n",
      "i: 55 8 j: 40 7\n",
      "i: 56 8 j: 40 7\n",
      "i: 57 8 j: 41 7\n",
      "i: 58 8 j: 41 7\n",
      "i: 59 8 j: 41 7\n",
      "Bonds:\n",
      "(7, 8) 36\n",
      "(8, 7) 36\n",
      "\n",
      "Angles:\n",
      "6 13\n",
      "6 12\n",
      "6 44\n",
      "7 15\n",
      "7 16\n",
      "7 17\n",
      "8 18\n",
      "8 19\n",
      "8 20\n",
      "9 23\n",
      "9 22\n",
      "9 51\n",
      "10 24\n",
      "10 25\n",
      "10 26\n",
      "11 27\n",
      "11 28\n",
      "11 29\n",
      "12 6\n",
      "13 6\n",
      "14 36\n",
      "15 7\n",
      "16 7\n",
      "17 7\n",
      "18 8\n",
      "19 8\n",
      "20 8\n",
      "21 39\n",
      "22 9\n",
      "23 9\n",
      "24 10\n",
      "25 10\n",
      "26 10\n",
      "27 11\n",
      "28 11\n",
      "29 11\n",
      "36 42\n",
      "36 43\n",
      "36 14\n",
      "37 45\n",
      "37 46\n",
      "37 47\n",
      "38 48\n",
      "38 49\n",
      "38 50\n",
      "39 52\n",
      "39 53\n",
      "39 21\n",
      "40 54\n",
      "40 55\n",
      "40 56\n",
      "41 57\n",
      "41 58\n",
      "41 59\n",
      "42 36\n",
      "43 36\n",
      "44 6\n",
      "45 37\n",
      "46 37\n",
      "47 37\n",
      "48 38\n",
      "49 38\n",
      "50 38\n",
      "51 9\n",
      "52 39\n",
      "53 39\n",
      "54 40\n",
      "55 40\n",
      "56 40\n",
      "57 41\n",
      "58 41\n",
      "59 41\n",
      "(8, 7, 8) 36\n",
      "\n"
     ]
    }
   ],
   "source": [
    "from ase.calculators.lammpslib import write_lammps_data\n",
    "nano3 = McDonaldNaNO3(supercell=[2,1,1])\n",
    "params = nano3.lammpsParameters()\n",
    "system = nano3.system\n",
    "mol_ids = nano3._mol_ids\n",
    "write_lammps_data('config.data',\n",
    "                  system,\n",
    "                  params['types'],\n",
    "                  cutoff=1.5,\n",
    "                  molecule_ids=mol_ids,\n",
    "                  charges=params['charges'],\n",
    "                  bond_types=[(7,8), (8,7)],\n",
    "                  angle_types=[(8,7,8)],\n",
    "                  units='real')"
   ]
  },
  {
   "cell_type": "markdown",
   "metadata": {
    "collapsed": true
   },
   "source": [
    "# PyLammps"
   ]
  },
  {
   "cell_type": "code",
   "execution_count": 4,
   "metadata": {
    "collapsed": false
   },
   "outputs": [
    {
     "name": "stdout",
     "output_type": "stream",
     "text": [
      "LAMMPS output is captured by PyLammps wrapper\n"
     ]
    }
   ],
   "source": [
    "#--------------------------------------------------#\n",
    "# PyLammps\n",
    "#--------------------------------------------------#\n",
    "\n",
    "from lammps import IPyLammps\n",
    "\n",
    "L = IPyLammps()"
   ]
  },
  {
   "cell_type": "code",
   "execution_count": 5,
   "metadata": {
    "collapsed": false
   },
   "outputs": [
    {
     "data": {
      "text/plain": [
       "[u'Reading data file ...',\n",
       " u'  triclinic box = (0 0 0) to (10.164 4.40114 17.31) with tilt (-2.541 0 0)',\n",
       " u'  1 by 1 by 1 MPI processor grid',\n",
       " u'  reading atoms ...',\n",
       " u'  60 atoms',\n",
       " u'  scanning bonds ...',\n",
       " u'  3 = max bonds/atom',\n",
       " u'  scanning angles ...',\n",
       " u'  3 = max angles/atom',\n",
       " u'  reading bonds ...',\n",
       " u'  36 bonds',\n",
       " u'  reading angles ...',\n",
       " u'  36 angles',\n",
       " u'Finding 1-2 1-3 1-4 neighbors ...',\n",
       " u'  special bond factors lj:   0          0          0         ',\n",
       " u'  special bond factors coul: 0          0          0         ',\n",
       " u'  3 = max # of 1-2 neighbors',\n",
       " u'  2 = max # of 1-3 neighbors',\n",
       " u'  2 = max # of 1-4 neighbors',\n",
       " u'  3 = max # of special neighbors']"
      ]
     },
     "execution_count": 5,
     "metadata": {},
     "output_type": "execute_result"
    }
   ],
   "source": [
    "for cmd in params['commands']['header']:\n",
    "    L.command(cmd)\n",
    "L.read_data('config.data')"
   ]
  },
  {
   "cell_type": "code",
   "execution_count": 6,
   "metadata": {
    "collapsed": false
   },
   "outputs": [
    {
     "name": "stdout",
     "output_type": "stream",
     "text": [
      "pair_style buck/long/coul/long long long 10.0\n",
      "pair_coeff 1 1 7575.5258 2.5120 24.1396\n",
      "pair_coeff 1 2 15966.5792 2.5084 79.0831\n",
      "pair_coeff 1 3 23013.0133 2.5869 79.1196\n",
      "pair_coeff 2 2 33652.0076 2.7495 259.0822\n",
      "pair_coeff 2 3 48503.4451 2.6324 259.2017\n",
      "pair_coeff 3 3 69909.1778 2.8914 259.3212\n",
      "bond_coeff * 100.0 1.565\n",
      "fix 1 all nve\n",
      "group NO3 type 2:3\n",
      "fix 2 NO3 rigid/nve/small molecule\n"
     ]
    }
   ],
   "source": [
    "for cmd in params['commands']['body']:\n",
    "    print cmd"
   ]
  },
  {
   "cell_type": "code",
   "execution_count": 7,
   "metadata": {
    "collapsed": false
   },
   "outputs": [],
   "source": [
    "for cmd in params['commands']['body']:\n",
    "    L.command(cmd)"
   ]
  },
  {
   "cell_type": "code",
   "execution_count": 8,
   "metadata": {
    "collapsed": false
   },
   "outputs": [],
   "source": [
    "L.neighbor(10.0,'bin')\n",
    "\n",
    "L.dump('1 all atom 1  dump.lammpstrj')\n",
    "\n",
    "L.velocity('all create 300.0 2341')\n",
    "\n",
    "L.command('thermo_style custom step time etotal pe ke')\n",
    "L.thermo(100)\n",
    "\n",
    "L.command('run 200')"
   ]
  },
  {
   "cell_type": "code",
   "execution_count": null,
   "metadata": {
    "collapsed": true
   },
   "outputs": [],
   "source": [
    "L.command('run 1000')"
   ]
  },
  {
   "cell_type": "code",
   "execution_count": null,
   "metadata": {
    "collapsed": true
   },
   "outputs": [],
   "source": []
  }
 ],
 "metadata": {
  "kernelspec": {
   "display_name": "Python 2",
   "language": "python",
   "name": "python2"
  },
  "language_info": {
   "codemirror_mode": {
    "name": "ipython",
    "version": 2
   },
   "file_extension": ".py",
   "mimetype": "text/x-python",
   "name": "python",
   "nbconvert_exporter": "python",
   "pygments_lexer": "ipython2",
   "version": "2.7.12"
  }
 },
 "nbformat": 4,
 "nbformat_minor": 2
}
