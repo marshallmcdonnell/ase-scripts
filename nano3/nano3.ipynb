{
 "cells": [
  {
   "cell_type": "markdown",
   "metadata": {},
   "source": [
    "# CaCO3 structures"
   ]
  },
  {
   "cell_type": "code",
   "execution_count": 3,
   "metadata": {
    "collapsed": true
   },
   "outputs": [],
   "source": [
    "from ase.spacegroup import crystal\n",
    "\n",
    "a =  4.99\n",
    "c = 17.0615\n",
    "caco3 = crystal('CaCO3', [(0.0,0.0,0.0), \n",
    "                          (0.0, 0.0, 0.25), \n",
    "                          (0.2578, 0.0, 0.25)], \n",
    "                spacegroup='R -3 c', \n",
    "                cellpar=[a,a,c,90,90,120])"
   ]
  },
  {
   "cell_type": "code",
   "execution_count": 5,
   "metadata": {
    "collapsed": false
   },
   "outputs": [],
   "source": [
    "from ase.visualize import view\n",
    "view(caco3)"
   ]
  },
  {
   "cell_type": "code",
   "execution_count": 17,
   "metadata": {
    "collapsed": true
   },
   "outputs": [],
   "source": [
    "from ase.io import read\n",
    "caco3_cif = read(\"caco3_r3c.cif\")\n",
    "view(caco3_cif)"
   ]
  },
  {
   "cell_type": "markdown",
   "metadata": {},
   "source": [
    "# NaNO3 structures"
   ]
  },
  {
   "cell_type": "code",
   "execution_count": 163,
   "metadata": {
    "collapsed": false
   },
   "outputs": [
    {
     "name": "stdout",
     "output_type": "stream",
     "text": [
      "Low Temp: T = 541K  {'spacegroup': Spacegroup(167, setting=1), 'unit_cell': 'conventional'}\n",
      "High Temp: T = 563K  {'spacegroup': Spacegroup(166, setting=1), 'unit_cell': 'conventional'}\n"
     ]
    }
   ],
   "source": [
    "from ase.spacegroup import crystal\n",
    "from ase.visualize import view\n",
    "# T = 541K\n",
    "a =  5.082\n",
    "c = 17.31\n",
    "nano3_low = crystal('NaNO', [(0.0,0.0,0.0), \n",
    "                          (0.0, 0.0, 0.25), \n",
    "                          (0.2381, 0.0, 0.25)], \n",
    "                spacegroup='R -3 c', \n",
    "                cellpar=[a,a,c,90,90,120])\n",
    "\n",
    "print \"Low Temp: T = 541K \", nano3_low.info\n",
    "\n",
    "# T = 563K\n",
    "\n",
    "a =  5.084\n",
    "c = 8.175\n",
    "nano3_high = crystal('NaNO', [(0.0,0.0,0.0), \n",
    "                          (0.0, 0.0, 0.5), \n",
    "                          (0.2337, 0.0, 0.5)], \n",
    "                spacegroup='R -3 m', \n",
    "                cellpar=[a,a,c,90,90,120])\n",
    "\n",
    "print \"High Temp: T = 563K \", nano3_high.info"
   ]
  },
  {
   "cell_type": "code",
   "execution_count": 239,
   "metadata": {
    "collapsed": false
   },
   "outputs": [],
   "source": [
    "view(nano3_low)"
   ]
  },
  {
   "cell_type": "code",
   "execution_count": 4,
   "metadata": {
    "collapsed": true
   },
   "outputs": [],
   "source": [
    "view(nano3_high)\n"
   ]
  },
  {
   "cell_type": "markdown",
   "metadata": {},
   "source": [
    "# Create pair list"
   ]
  },
  {
   "cell_type": "code",
   "execution_count": 164,
   "metadata": {
    "collapsed": true
   },
   "outputs": [],
   "source": [
    "import numpy as np\n",
    "import sys\n",
    "sys.path.append(\"/home/ntm/software/PairList\")\n",
    "\n",
    "from pairlist import pairlist"
   ]
  },
  {
   "cell_type": "code",
   "execution_count": 165,
   "metadata": {
    "collapsed": false
   },
   "outputs": [],
   "source": [
    "def get_pairlist(elementA,  cutoff, atoms, elementB=None):\n",
    "    cell = atoms.cell\n",
    "    \n",
    "    As = list()\n",
    "    Bs = list()\n",
    "    As_idMap = dict()\n",
    "    Bs_idMap = dict()\n",
    "    \n",
    "    for atom in atoms:\n",
    "        if atom.symbol == elementA:\n",
    "            As_idMap[len(As)] = atom.index\n",
    "            As.append([atom.a, atom.b, atom.c])\n",
    "        if elementB:\n",
    "            if atom.symbol == elementB:\n",
    "                Bs_idMap[len(Bs)] = atom.index\n",
    "                Bs.append([atom.a, atom.b, atom.c])\n",
    "                \n",
    "    As = np.array(As)\n",
    "    Bs = np.array(Bs)\n",
    "        \n",
    "    if elementB:\n",
    "        pairs = pairlist(As, cutoff, cell, Bs)\n",
    "    else:\n",
    "        pairs = pairlist(As, cutoff, cell)\n",
    "    \n",
    "    if pairs.size == 0:\n",
    "        print(\"No pairs. Exiting...\")\n",
    "        return\n",
    "    \n",
    "    def pairlist_local2global(pairs, idMap, idMap2=None):\n",
    "        if not idMap2:\n",
    "            idMap2 = idMap\n",
    "        \n",
    "        new_pairlist = list()\n",
    "        for pair in pairs[pairs[:,0].argsort()]:\n",
    "            id1 = int(pair[0])\n",
    "            id2 = int(pair[1])\n",
    "            r   = pair[2]\n",
    "            new_pairlist.append([idMap[id1], idMap2[id2], r])\n",
    "        \n",
    "        return new_pairlist\n",
    "    \n",
    "    if elementB:\n",
    "        pairs = pairlist_local2global(pairs, As_idMap, Bs_idMap)\n",
    "    else:\n",
    "        pairs = pairlist_local2global(pairs, As_idMap)\n",
    "        \n",
    "    return pairs"
   ]
  },
  {
   "cell_type": "code",
   "execution_count": 166,
   "metadata": {
    "collapsed": false
   },
   "outputs": [],
   "source": [
    "pairs = get_pairlist('N', 1.3, nano3_low, 'O')"
   ]
  },
  {
   "cell_type": "code",
   "execution_count": 167,
   "metadata": {
    "collapsed": false
   },
   "outputs": [
    {
     "name": "stdout",
     "output_type": "stream",
     "text": [
      "NO bonds: 18\n",
      "   pair:  6 14 dist: 1.21\n",
      "   pair:  6 13 dist: 1.21\n",
      "   pair:  6 12 dist: 1.21\n",
      "   pair:  7 16 dist: 1.21\n",
      "   pair:  7 17 dist: 1.21\n",
      "   pair:  7 15 dist: 1.21\n",
      "   pair:  8 19 dist: 1.21\n",
      "   pair:  8 20 dist: 1.21\n",
      "   pair:  8 18 dist: 1.21\n",
      "   pair:  9 22 dist: 1.21\n",
      "   pair:  9 21 dist: 1.21\n",
      "   pair:  9 23 dist: 1.21\n",
      "   pair: 10 26 dist: 1.21\n",
      "   pair: 10 24 dist: 1.21\n",
      "   pair: 10 25 dist: 1.21\n",
      "   pair: 11 29 dist: 1.21\n",
      "   pair: 11 27 dist: 1.21\n",
      "   pair: 11 28 dist: 1.21\n"
     ]
    }
   ],
   "source": [
    "print \"NO bonds:\", len(pairs)\n",
    "for pair in pairs:\n",
    "    print \"   pair: {0:>2} {1:>2} dist: {2:04.2f}\".format(pair[0], pair[1], pair[2])"
   ]
  },
  {
   "cell_type": "markdown",
   "metadata": {},
   "source": [
    "# Set nitrate NO bonds from 1.21 -> 1.25 using pair list"
   ]
  },
  {
   "cell_type": "code",
   "execution_count": 168,
   "metadata": {
    "collapsed": true
   },
   "outputs": [],
   "source": [
    "bond_length=1.25 \n",
    "# For fix:\n",
    "#   0   = fixes the 1st atom \n",
    "#   0.5 = fixes center of bond\n",
    "#   1   = fixes 2nd atom\n",
    "\n",
    "for pair in pairs:\n",
    "    nano3_low.set_distance(pair[0], pair[1], bond_length, fix=0, mic=True)"
   ]
  },
  {
   "cell_type": "code",
   "execution_count": 169,
   "metadata": {
    "collapsed": false
   },
   "outputs": [],
   "source": [
    "pairs = get_pairlist('N', 1.3, nano3_low, 'O')"
   ]
  },
  {
   "cell_type": "code",
   "execution_count": 170,
   "metadata": {
    "collapsed": false
   },
   "outputs": [
    {
     "name": "stdout",
     "output_type": "stream",
     "text": [
      "NO bonds: 18\n",
      "   pair:  6 14 dist: 1.25\n",
      "   pair:  6 13 dist: 1.25\n",
      "   pair:  6 12 dist: 1.25\n",
      "   pair:  7 16 dist: 1.25\n",
      "   pair:  7 17 dist: 1.25\n",
      "   pair:  7 15 dist: 1.25\n",
      "   pair:  8 19 dist: 1.25\n",
      "   pair:  8 20 dist: 1.25\n",
      "   pair:  8 18 dist: 1.25\n",
      "   pair:  9 22 dist: 1.25\n",
      "   pair:  9 21 dist: 1.25\n",
      "   pair:  9 23 dist: 1.25\n",
      "   pair: 10 26 dist: 1.25\n",
      "   pair: 10 24 dist: 1.25\n",
      "   pair: 10 25 dist: 1.25\n",
      "   pair: 11 29 dist: 1.25\n",
      "   pair: 11 27 dist: 1.25\n",
      "   pair: 11 28 dist: 1.25\n"
     ]
    }
   ],
   "source": [
    "print \"NO bonds:\", len(pairs)\n",
    "for pair in pairs:\n",
    "    print \"   pair: {0:>2} {1:>2} dist: {2:04.2f}\".format(pair[0], pair[1], pair[2])"
   ]
  },
  {
   "cell_type": "markdown",
   "metadata": {},
   "source": [
    "# Create molecules from pair list"
   ]
  },
  {
   "cell_type": "code",
   "execution_count": 248,
   "metadata": {
    "collapsed": false
   },
   "outputs": [
    {
     "name": "stdout",
     "output_type": "stream",
     "text": [
      "Na path 3 1 [0, None, None, None, None, None, None, None, None, None, None, None, None, None, None, None, None, None, None, None, None, None, None, None, None, None, None, None, None, None]\n",
      "Na path 3 2 [0, 1, None, None, None, None, None, None, None, None, None, None, None, None, None, None, None, None, None, None, None, None, None, None, None, None, None, None, None, None]\n",
      "Na path 3 3 [0, 1, 2, None, None, None, None, None, None, None, None, None, None, None, None, None, None, None, None, None, None, None, None, None, None, None, None, None, None, None]\n",
      "Na path 3 4 [0, 1, 2, 3, None, None, None, None, None, None, None, None, None, None, None, None, None, None, None, None, None, None, None, None, None, None, None, None, None, None]\n",
      "Na path 3 5 [0, 1, 2, 3, 4, None, None, None, None, None, None, None, None, None, None, None, None, None, None, None, None, None, None, None, None, None, None, None, None, None]\n",
      "Na path 3 6 [0, 1, 2, 3, 4, 5, None, None, None, None, None, None, None, None, None, None, None, None, None, None, None, None, None, None, None, None, None, None, None, None]\n",
      "N path 1 [14, 13, 12] [None, None, None, None]\n",
      "7 [0, 1, 2, 3, 4, 5, None, None, None, None, None, None, 6, 6, 6, None, None, None, None, None, None, None, None, None, None, None, None, None, None, 6]\n",
      "N path 2 [16, 17, 15] [None, None, None, 6]\n",
      "7 [0, 1, 2, 3, 4, 5, None, None, None, None, None, None, 6, 6, 6, 6, 6, 6, None, None, None, None, None, None, None, None, None, None, None, 6]\n",
      "N path 2 [19, 20, 18] [None, None, None, 6]\n",
      "7 [0, 1, 2, 3, 4, 5, None, None, None, None, None, None, 6, 6, 6, 6, 6, 6, 6, 6, 6, None, None, None, None, None, None, None, None, 6]\n",
      "N path 2 [22, 21, 23] [None, None, None, 6]\n",
      "7 [0, 1, 2, 3, 4, 5, None, None, None, None, None, None, 6, 6, 6, 6, 6, 6, 6, 6, 6, 6, 6, 6, None, None, None, None, None, 6]\n",
      "N path 2 [26, 24, 25] [None, None, None, 6]\n",
      "7 [0, 1, 2, 3, 4, 5, None, None, None, None, None, None, 6, 6, 6, 6, 6, 6, 6, 6, 6, 6, 6, 6, 6, 6, 6, None, None, 6]\n",
      "N path 2 [29, 27, 28] [6, None, None, 6]\n",
      "7 [0, 1, 2, 3, 4, 5, None, None, None, None, None, None, 6, 6, 6, 6, 6, 6, 6, 6, 6, 6, 6, 6, 6, 6, 6, 6, 6, 6]\n",
      "O path 2 [6] [None, 6]\n",
      "7 [0, 1, 2, 3, 4, 5, 6, None, None, None, None, None, 6, 6, 6, 6, 6, 6, 6, 6, 6, 6, 6, 6, 6, 6, 6, 6, 6, 6]\n",
      "O path 2 [6] [6, 6]\n",
      "7 [0, 1, 2, 3, 4, 5, 6, None, None, None, None, None, 6, 6, 6, 6, 6, 6, 6, 6, 6, 6, 6, 6, 6, 6, 6, 6, 6, 6]\n",
      "O path 2 [6] [6, 6]\n",
      "7 [0, 1, 2, 3, 4, 5, 6, None, None, None, None, None, 6, 6, 6, 6, 6, 6, 6, 6, 6, 6, 6, 6, 6, 6, 6, 6, 6, 6]\n",
      "O path 2 [7] [None, 6]\n",
      "7 [0, 1, 2, 3, 4, 5, 6, 6, None, None, None, None, 6, 6, 6, 6, 6, 6, 6, 6, 6, 6, 6, 6, 6, 6, 6, 6, 6, 6]\n",
      "O path 2 [7] [6, 6]\n",
      "7 [0, 1, 2, 3, 4, 5, 6, 6, None, None, None, None, 6, 6, 6, 6, 6, 6, 6, 6, 6, 6, 6, 6, 6, 6, 6, 6, 6, 6]\n",
      "O path 2 [7] [6, 6]\n",
      "7 [0, 1, 2, 3, 4, 5, 6, 6, None, None, None, None, 6, 6, 6, 6, 6, 6, 6, 6, 6, 6, 6, 6, 6, 6, 6, 6, 6, 6]\n",
      "O path 2 [8] [None, 6]\n",
      "7 [0, 1, 2, 3, 4, 5, 6, 6, 6, None, None, None, 6, 6, 6, 6, 6, 6, 6, 6, 6, 6, 6, 6, 6, 6, 6, 6, 6, 6]\n",
      "O path 2 [8] [6, 6]\n",
      "7 [0, 1, 2, 3, 4, 5, 6, 6, 6, None, None, None, 6, 6, 6, 6, 6, 6, 6, 6, 6, 6, 6, 6, 6, 6, 6, 6, 6, 6]\n",
      "O path 2 [8] [6, 6]\n",
      "7 [0, 1, 2, 3, 4, 5, 6, 6, 6, None, None, None, 6, 6, 6, 6, 6, 6, 6, 6, 6, 6, 6, 6, 6, 6, 6, 6, 6, 6]\n",
      "O path 2 [9] [None, 6]\n",
      "7 [0, 1, 2, 3, 4, 5, 6, 6, 6, 6, None, None, 6, 6, 6, 6, 6, 6, 6, 6, 6, 6, 6, 6, 6, 6, 6, 6, 6, 6]\n",
      "O path 2 [9] [6, 6]\n",
      "7 [0, 1, 2, 3, 4, 5, 6, 6, 6, 6, None, None, 6, 6, 6, 6, 6, 6, 6, 6, 6, 6, 6, 6, 6, 6, 6, 6, 6, 6]\n",
      "O path 2 [9] [6, 6]\n",
      "7 [0, 1, 2, 3, 4, 5, 6, 6, 6, 6, None, None, 6, 6, 6, 6, 6, 6, 6, 6, 6, 6, 6, 6, 6, 6, 6, 6, 6, 6]\n",
      "O path 2 [10] [None, 6]\n",
      "7 [0, 1, 2, 3, 4, 5, 6, 6, 6, 6, 6, None, 6, 6, 6, 6, 6, 6, 6, 6, 6, 6, 6, 6, 6, 6, 6, 6, 6, 6]\n",
      "O path 2 [10] [6, 6]\n",
      "7 [0, 1, 2, 3, 4, 5, 6, 6, 6, 6, 6, None, 6, 6, 6, 6, 6, 6, 6, 6, 6, 6, 6, 6, 6, 6, 6, 6, 6, 6]\n",
      "O path 2 [10] [6, 6]\n",
      "7 [0, 1, 2, 3, 4, 5, 6, 6, 6, 6, 6, None, 6, 6, 6, 6, 6, 6, 6, 6, 6, 6, 6, 6, 6, 6, 6, 6, 6, 6]\n",
      "O path 2 [11] [None, 6]\n",
      "7 [0, 1, 2, 3, 4, 5, 6, 6, 6, 6, 6, 6, 6, 6, 6, 6, 6, 6, 6, 6, 6, 6, 6, 6, 6, 6, 6, 6, 6, 6]\n",
      "O path 2 [11] [6, 6]\n",
      "7 [0, 1, 2, 3, 4, 5, 6, 6, 6, 6, 6, 6, 6, 6, 6, 6, 6, 6, 6, 6, 6, 6, 6, 6, 6, 6, 6, 6, 6, 6]\n",
      "O path 2 [11] [6, 6]\n",
      "7 [0, 1, 2, 3, 4, 5, 6, 6, 6, 6, 6, 6, 6, 6, 6, 6, 6, 6, 6, 6, 6, 6, 6, 6, 6, 6, 6, 6, 6, 6]\n"
     ]
    }
   ],
   "source": [
    "molecule_ids = [None]*len(nano3_low)\n",
    "molecule_counter = 0\n",
    "for atomI in nano3_low:\n",
    "    print atomI.symbol,\n",
    "    list1 = [pair[1] for pair in pairs if atomI.index == pair[0]]\n",
    "    list2 = [pair[0] for pair in pairs if atomI.index == pair[1]]\n",
    "    bonded_list = list1 + list2\n",
    "    if bonded_list:\n",
    "        assigned = [ molecule_ids[i] for i in bonded_list+[atom.index]]\n",
    "        \n",
    "        if not any(assigned):\n",
    "            print 'path 1', bonded_list, assigned\n",
    "            for i in bonded_list+[atom.index]:\n",
    "                molecule_ids[i] = molecule_counter\n",
    "            molecule_counter += 1\n",
    "        else:\n",
    "            print 'path 2', bonded_list, assigned\n",
    "            molecule_id = set(uid for uid in assigned if uid is not None)\n",
    "            assert(len(molecule_id) == 1)\n",
    "            for i in bonded_list+[atom.index]:\n",
    "                molecule_ids[i] = list(molecule_id)[0]\n",
    "    else:\n",
    "        print 'path 3',\n",
    "        if not molecule_ids[atomI.index]:\n",
    "            molecule_ids[atomI.index] = molecule_counter\n",
    "        molecule_counter += 1\n",
    "    print molecule_counter, molecule_ids"
   ]
  },
  {
   "cell_type": "code",
   "execution_count": 238,
   "metadata": {
    "collapsed": false
   },
   "outputs": [
    {
     "name": "stdout",
     "output_type": "stream",
     "text": [
      "0 0\n",
      "1 1\n",
      "2 2\n",
      "3 3\n",
      "4 4\n",
      "5 5\n",
      "6 6\n",
      "7 6\n",
      "8 6\n",
      "9 6\n",
      "10 6\n",
      "11 6\n",
      "12 6\n",
      "13 6\n",
      "14 6\n",
      "15 6\n",
      "16 6\n",
      "17 6\n",
      "18 6\n",
      "19 6\n",
      "20 6\n",
      "21 6\n",
      "22 6\n",
      "23 6\n",
      "24 6\n",
      "25 6\n",
      "26 6\n",
      "27 6\n",
      "28 6\n",
      "29 6\n"
     ]
    }
   ],
   "source": [
    "for atomI in nano3_low:\n",
    "    print atomI.index, molecule_ids[atomI.index]"
   ]
  },
  {
   "cell_type": "markdown",
   "metadata": {},
   "source": [
    "# NaNO3 MD model"
   ]
  },
  {
   "cell_type": "code",
   "execution_count": 5,
   "metadata": {
    "collapsed": true
   },
   "outputs": [],
   "source": [
    "class McDonaldNO3(object):\n",
    "    def __init__(self, supercell=[1,1,1], cif_file=None):\n",
    "        self.description = \"Sodim Nitrate model for crystalline odered-disordered transition\"\n",
    "        self.citation = { \"authors\" : [ {\"Last\" : \"Lynden-Bell\", \"First\" : \"R M\"},\n",
    "                                        {\"Last\" : \"Ferrario\", \"First\" : \"M \"},\n",
    "                                        {\"Last\" : \"McDonald\", \"First\" : \"I R\"} ],\n",
    "                          \"journal\" : \"Journal of Physics: Condensed Matter\",\n",
    "                          \"year\" : 1989,\n",
    "                          \"volume\" : 1,\n",
    "                          \"pages\" : 6523-6542\n",
    "                        }\n",
    "        self._supercell = supercell\n",
    "        \n",
    "        self.mol_ids = list()\n",
    "        self.molecule_counter = 0\n",
    "        \n",
    "        if cif_file:\n",
    "            self._unit_cell = read(cif_file)\n",
    "        else:\n",
    "            self._unit_cell = nano3_low = crystal('NaNO', [(0.0,0.0,0.0), \n",
    "                                                           (0.0, 0.0, 0.25), \n",
    "                                                           (0.2381, 0.0, 0.25)], \n",
    "                                             spacegroup='R -3 c', \n",
    "                                             cellpar=[a,a,c,90,90,120])\n",
    "        def _makeSuperCell(self):\n",
    "            lat = self._lat\n",
    "            sc  = self._supercell\n",
    "            self.system = Atoms(cell=[sc[0]*lat,sc[1]*lat,sc[2]*lat], pbc=[1,1,1])\n",
    "            \n",
    "    def lammpsParameters(self):\n",
    "        # Simulation Parameters\n",
    "\n",
    "        eps_ff = 70.60 # units: K\n",
    "        sig_ff =  2.70 # units: Angstrom\n",
    "\n",
    "        eps_ff *= units.kB / (units.kcal/units.mol) # units: kcal/mol\n",
    "\n",
    "        #print(eps_ff,sig_ff)\n",
    "\n",
    "        # LAMMPS input\n",
    "        header = ['units real',\n",
    "                  'atom_style molecular',\n",
    "                  'bond_style harmonic',\n",
    "                  'atom_modify map array sort 0 0']\n",
    "\n",
    "        cmds = [\"pair_style lj/cut 10.0\",\n",
    "                \"pair_coeff * * 0.0 0.0\",\n",
    "                \"pair_coeff 2 2 \"+str(eps_ff)+' '+str(sig_ff),\n",
    "                \"bond_coeff * 100.0 1.565\",\n",
    "                \"fix 1 all nve\",\n",
    "                \"fix 1 all rigid/nve/small molecule\"]\n",
    "\n",
    "        return header, cmds\n"
   ]
  },
  {
   "cell_type": "code",
   "execution_count": 6,
   "metadata": {
    "collapsed": false
   },
   "outputs": [
    {
     "ename": "SyntaxError",
     "evalue": "invalid syntax (<ipython-input-6-dd2a6b327c64>, line 8)",
     "output_type": "error",
     "traceback": [
      "\u001b[0;36m  File \u001b[0;32m\"<ipython-input-6-dd2a6b327c64>\"\u001b[0;36m, line \u001b[0;32m8\u001b[0m\n\u001b[0;31m    cutoff=,\u001b[0m\n\u001b[0m           ^\u001b[0m\n\u001b[0;31mSyntaxError\u001b[0m\u001b[0;31m:\u001b[0m invalid syntax\n"
     ]
    }
   ],
   "source": [
    "from ase.calculators.lammpslib import write_lammps_data\n",
    "nano3 = NaNO3(supercell=[1,1,1])\n",
    "header, cms = nano3.lammpsParameters()\n",
    "system = nano3\n",
    "write_lammps_data('config.data',\n",
    "                  molecules,\n",
    "                  {'Na': 1, 'N': 2, 'O': 3},\n",
    "                  cutoff=,\n",
    "                  bond_types=[(7,8)],\n",
    "                  angle_types=[(8,7,8)],\n",
    "                  units='real')"
   ]
  },
  {
   "cell_type": "code",
   "execution_count": 2,
   "metadata": {
    "collapsed": false
   },
   "outputs": [
    {
     "ename": "NameError",
     "evalue": "name 'nano3_low' is not defined",
     "output_type": "error",
     "traceback": [
      "\u001b[0;31m---------------------------------------------------------------------------\u001b[0m",
      "\u001b[0;31mNameError\u001b[0m                                 Traceback (most recent call last)",
      "\u001b[0;32m<ipython-input-2-076a57efd096>\u001b[0m in \u001b[0;36m<module>\u001b[0;34m()\u001b[0m\n\u001b[0;32m----> 1\u001b[0;31m \u001b[0mnano3_low\u001b[0m\u001b[0;34m\u001b[0m\u001b[0m\n\u001b[0m",
      "\u001b[0;31mNameError\u001b[0m: name 'nano3_low' is not defined"
     ]
    }
   ],
   "source": [
    "nano3_low\n"
   ]
  },
  {
   "cell_type": "code",
   "execution_count": null,
   "metadata": {
    "collapsed": true
   },
   "outputs": [],
   "source": []
  }
 ],
 "metadata": {
  "kernelspec": {
   "display_name": "Python 2",
   "language": "python",
   "name": "python2"
  },
  "language_info": {
   "codemirror_mode": {
    "name": "ipython",
    "version": 2
   },
   "file_extension": ".py",
   "mimetype": "text/x-python",
   "name": "python",
   "nbconvert_exporter": "python",
   "pygments_lexer": "ipython2",
   "version": "2.7.12"
  }
 },
 "nbformat": 4,
 "nbformat_minor": 2
}
