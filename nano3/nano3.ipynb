{
 "cells": [
  {
   "cell_type": "markdown",
   "metadata": {
    "deletable": true,
    "editable": true
   },
   "source": [
    "# CaCO3 structures"
   ]
  },
  {
   "cell_type": "code",
   "execution_count": 3,
   "metadata": {
    "collapsed": true,
    "deletable": true,
    "editable": true
   },
   "outputs": [],
   "source": [
    "from ase.spacegroup import crystal\n",
    "\n",
    "a =  4.99\n",
    "c = 17.0615\n",
    "caco3 = crystal('CaCO3', [(0.0,0.0,0.0), \n",
    "                          (0.0, 0.0, 0.25), \n",
    "                          (0.2578, 0.0, 0.25)], \n",
    "                spacegroup='R -3 c', \n",
    "                cellpar=[a,a,c,90,90,120])"
   ]
  },
  {
   "cell_type": "code",
   "execution_count": 5,
   "metadata": {
    "collapsed": false,
    "deletable": true,
    "editable": true
   },
   "outputs": [],
   "source": [
    "from ase.visualize import view\n",
    "view(caco3)"
   ]
  },
  {
   "cell_type": "code",
   "execution_count": 17,
   "metadata": {
    "collapsed": true,
    "deletable": true,
    "editable": true
   },
   "outputs": [],
   "source": [
    "from ase.io import read\n",
    "caco3_cif = read(\"caco3_r3c.cif\")\n",
    "view(caco3_cif)"
   ]
  },
  {
   "cell_type": "markdown",
   "metadata": {
    "deletable": true,
    "editable": true
   },
   "source": [
    "# NaNO3 structures"
   ]
  },
  {
   "cell_type": "code",
   "execution_count": 2,
   "metadata": {
    "collapsed": false,
    "deletable": true,
    "editable": true
   },
   "outputs": [
    {
     "name": "stdout",
     "output_type": "stream",
     "text": [
      "Low Temp: T = 541K  {'spacegroup': Spacegroup(167, setting=1), 'unit_cell': 'conventional'}\n",
      "High Temp: T = 563K  {'spacegroup': Spacegroup(166, setting=1), 'unit_cell': 'conventional'}\n"
     ]
    }
   ],
   "source": [
    "from ase.spacegroup import crystal\n",
    "from ase.visualize import view\n",
    "# T = 541K\n",
    "a =  5.082\n",
    "c = 17.31\n",
    "nano3_low = crystal('NaNO', [(0.0,0.0,0.0), \n",
    "                          (0.0, 0.0, 0.25), \n",
    "                          (0.2381, 0.0, 0.25)], \n",
    "                spacegroup='R -3 c', \n",
    "                cellpar=[a,a,c,90,90,120])\n",
    "\n",
    "print \"Low Temp: T = 541K \", nano3_low.info\n",
    "\n",
    "# T = 563K\n",
    "\n",
    "a =  5.084\n",
    "c = 8.175\n",
    "nano3_high = crystal('NaNO', [(0.0,0.0,0.0), \n",
    "                          (0.0, 0.0, 0.5), \n",
    "                          (0.2337, 0.0, 0.5)], \n",
    "                spacegroup='R -3 m', \n",
    "                cellpar=[a,a,c,90,90,120])\n",
    "\n",
    "print \"High Temp: T = 563K \", nano3_high.info"
   ]
  },
  {
   "cell_type": "code",
   "execution_count": 239,
   "metadata": {
    "collapsed": false,
    "deletable": true,
    "editable": true
   },
   "outputs": [],
   "source": [
    "view(nano3_low)"
   ]
  },
  {
   "cell_type": "code",
   "execution_count": 4,
   "metadata": {
    "collapsed": true,
    "deletable": true,
    "editable": true
   },
   "outputs": [],
   "source": [
    "view(nano3_high)\n"
   ]
  },
  {
   "cell_type": "markdown",
   "metadata": {
    "deletable": true,
    "editable": true
   },
   "source": [
    "# Create pair list"
   ]
  },
  {
   "cell_type": "code",
   "execution_count": 4,
   "metadata": {
    "collapsed": false,
    "deletable": true,
    "editable": true
   },
   "outputs": [],
   "source": [
    "pairs = get_pairlist('N', 1.3, nano3_low, 'O')"
   ]
  },
  {
   "cell_type": "code",
   "execution_count": 5,
   "metadata": {
    "collapsed": false,
    "deletable": true,
    "editable": true
   },
   "outputs": [
    {
     "name": "stdout",
     "output_type": "stream",
     "text": [
      "NO bonds: 18\n",
      "   pair:  6 14 dist: 1.21\n",
      "   pair:  6 13 dist: 1.21\n",
      "   pair:  6 12 dist: 1.21\n",
      "   pair:  7 16 dist: 1.21\n",
      "   pair:  7 17 dist: 1.21\n",
      "   pair:  7 15 dist: 1.21\n",
      "   pair:  8 19 dist: 1.21\n",
      "   pair:  8 20 dist: 1.21\n",
      "   pair:  8 18 dist: 1.21\n",
      "   pair:  9 22 dist: 1.21\n",
      "   pair:  9 21 dist: 1.21\n",
      "   pair:  9 23 dist: 1.21\n",
      "   pair: 10 26 dist: 1.21\n",
      "   pair: 10 24 dist: 1.21\n",
      "   pair: 10 25 dist: 1.21\n",
      "   pair: 11 29 dist: 1.21\n",
      "   pair: 11 27 dist: 1.21\n",
      "   pair: 11 28 dist: 1.21\n"
     ]
    }
   ],
   "source": [
    "print \"NO bonds:\", len(pairs)\n",
    "for pair in pairs:\n",
    "    print \"   pair: {0:>2} {1:>2} dist: {2:04.2f}\".format(pair[0], pair[1], pair[2])"
   ]
  },
  {
   "cell_type": "markdown",
   "metadata": {
    "deletable": true,
    "editable": true
   },
   "source": [
    "# Set nitrate NO bonds from 1.21 -> 1.25 using pair list"
   ]
  },
  {
   "cell_type": "code",
   "execution_count": 6,
   "metadata": {
    "collapsed": true,
    "deletable": true,
    "editable": true
   },
   "outputs": [],
   "source": [
    "bond_length=1.25 \n",
    "# For fix:\n",
    "#   0   = fixes the 1st atom \n",
    "#   0.5 = fixes center of bond\n",
    "#   1   = fixes 2nd atom\n",
    "\n",
    "for pair in pairs:\n",
    "    nano3_low.set_distance(pair[0], pair[1], bond_length, fix=0, mic=True)"
   ]
  },
  {
   "cell_type": "code",
   "execution_count": 7,
   "metadata": {
    "collapsed": false,
    "deletable": true,
    "editable": true
   },
   "outputs": [],
   "source": [
    "pairs = get_pairlist('N', 1.3, nano3_low, 'O')"
   ]
  },
  {
   "cell_type": "code",
   "execution_count": 8,
   "metadata": {
    "collapsed": false,
    "deletable": true,
    "editable": true
   },
   "outputs": [
    {
     "name": "stdout",
     "output_type": "stream",
     "text": [
      "NO bonds: 18\n",
      "   pair:  6 14 dist: 1.25\n",
      "   pair:  6 13 dist: 1.25\n",
      "   pair:  6 12 dist: 1.25\n",
      "   pair:  7 16 dist: 1.25\n",
      "   pair:  7 17 dist: 1.25\n",
      "   pair:  7 15 dist: 1.25\n",
      "   pair:  8 19 dist: 1.25\n",
      "   pair:  8 20 dist: 1.25\n",
      "   pair:  8 18 dist: 1.25\n",
      "   pair:  9 22 dist: 1.25\n",
      "   pair:  9 21 dist: 1.25\n",
      "   pair:  9 23 dist: 1.25\n",
      "   pair: 10 26 dist: 1.25\n",
      "   pair: 10 24 dist: 1.25\n",
      "   pair: 10 25 dist: 1.25\n",
      "   pair: 11 29 dist: 1.25\n",
      "   pair: 11 27 dist: 1.25\n",
      "   pair: 11 28 dist: 1.25\n"
     ]
    }
   ],
   "source": [
    "print \"NO bonds:\", len(pairs)\n",
    "for pair in pairs:\n",
    "    print \"   pair: {0:>2} {1:>2} dist: {2:04.2f}\".format(pair[0], pair[1], pair[2])"
   ]
  },
  {
   "cell_type": "markdown",
   "metadata": {
    "deletable": true,
    "editable": true
   },
   "source": [
    "# Create molecules from pair list"
   ]
  },
  {
   "cell_type": "code",
   "execution_count": 11,
   "metadata": {
    "collapsed": false,
    "deletable": true,
    "editable": true
   },
   "outputs": [
    {
     "name": "stdout",
     "output_type": "stream",
     "text": [
      "0 Na 0\n",
      "1 Na 1\n",
      "2 Na 2\n",
      "3 Na 3\n",
      "4 Na 4\n",
      "5 Na 5\n",
      "6 N 6\n",
      "7 N 7\n",
      "8 N 8\n",
      "9 N 9\n",
      "10 N 10\n",
      "11 N 11\n",
      "12 O 6\n",
      "13 O 6\n",
      "14 O 6\n",
      "15 O 7\n",
      "16 O 7\n",
      "17 O 7\n",
      "18 O 8\n",
      "19 O 8\n",
      "20 O 8\n",
      "21 O 9\n",
      "22 O 9\n",
      "23 O 9\n",
      "24 O 10\n",
      "25 O 10\n",
      "26 O 10\n",
      "27 O 11\n",
      "28 O 11\n",
      "29 O 11\n"
     ]
    }
   ],
   "source": [
    "atom=None\n",
    "molecule_ids = [None]*len(nano3_low)\n",
    "molecule_counter = 0\n",
    "for atomI in nano3_low:\n",
    "    list1 = [pair[1] for pair in pairs if atomI.index == pair[0]]\n",
    "    list2 = [pair[0] for pair in pairs if atomI.index == pair[1]]\n",
    "    bonded_list = list1 + list2\n",
    "    if bonded_list:\n",
    "        assigned = [ molecule_ids[i] for i in bonded_list+[atomI.index]]\n",
    "        \n",
    "        if not any(assigned):\n",
    "            for i in bonded_list+[atomI.index]:\n",
    "                molecule_ids[i] = molecule_counter\n",
    "            molecule_counter += 1\n",
    "        else:\n",
    "            molecule_id = set(uid for uid in assigned if uid is not None)\n",
    "            assert(len(molecule_id) == 1)\n",
    "            for i in bonded_list+[atomI.index]:\n",
    "                molecule_ids[i] = list(molecule_id)[0]\n",
    "    else:\n",
    "        if not molecule_ids[atomI.index]:\n",
    "            molecule_ids[atomI.index] = molecule_counter\n",
    "        molecule_counter += 1\n",
    "        \n",
    "for atom in nano3_low:\n",
    "    print atom.index, atom.symbol, molecule_ids[atom.index]"
   ]
  },
  {
   "cell_type": "code",
   "execution_count": 238,
   "metadata": {
    "collapsed": false,
    "deletable": true,
    "editable": true
   },
   "outputs": [
    {
     "name": "stdout",
     "output_type": "stream",
     "text": [
      "0 0\n",
      "1 1\n",
      "2 2\n",
      "3 3\n",
      "4 4\n",
      "5 5\n",
      "6 6\n",
      "7 6\n",
      "8 6\n",
      "9 6\n",
      "10 6\n",
      "11 6\n",
      "12 6\n",
      "13 6\n",
      "14 6\n",
      "15 6\n",
      "16 6\n",
      "17 6\n",
      "18 6\n",
      "19 6\n",
      "20 6\n",
      "21 6\n",
      "22 6\n",
      "23 6\n",
      "24 6\n",
      "25 6\n",
      "26 6\n",
      "27 6\n",
      "28 6\n",
      "29 6\n"
     ]
    }
   ],
   "source": [
    "for atomI in nano3_low:\n",
    "    print atomI.index, molecule_ids[atomI.index]"
   ]
  },
  {
   "cell_type": "markdown",
   "metadata": {
    "deletable": true,
    "editable": true
   },
   "source": [
    "# NaNO3 MD model"
   ]
  },
  {
   "cell_type": "code",
   "execution_count": 21,
   "metadata": {
    "collapsed": false,
    "deletable": true,
    "editable": true
   },
   "outputs": [],
   "source": [
    "import itertools\n",
    "import numpy as np\n",
    "from ase import Atoms\n",
    "from ase.units import kJ, kcal, mol\n",
    "from ase.spacegroup import crystal\n",
    "from ase.pairlist import get_pairlist\n",
    "\n",
    "class McDonaldNaNO3(object):\n",
    "    def __init__(self, supercell=[1,1,1], cif_file=None):\n",
    "        self.description = \"Sodim Nitrate model for crystalline odered-disordered transition\"\n",
    "        self.citation = { \"authors\" : [ {\"Last\" : \"Lynden-Bell\", \"First\" : \"R M\"},\n",
    "                                        {\"Last\" : \"Ferrario\", \"First\" : \"M \"},\n",
    "                                        {\"Last\" : \"McDonald\", \"First\" : \"I R\"} ],\n",
    "                          \"journal\" : \"Journal of Physics: Condensed Matter\",\n",
    "                          \"year\" : 1989,\n",
    "                          \"volume\" : 1,\n",
    "                          \"pages\" : 6523-6542\n",
    "                        }\n",
    "        # model parameters\n",
    "        a =  5.082\n",
    "        c = 17.31\n",
    "        self._lat_params = [a,a,c,90,90,120]\n",
    "        self._no_bond_length=1.25 # N-O bond length\n",
    "        \n",
    "        # initialization\n",
    "        self._unit_cell = None\n",
    "        self._supercell = supercell\n",
    "        self._mol_ids = list()\n",
    "        \n",
    "        self._makeUnitCell(cif_file)\n",
    "        self._makeSuperCell()\n",
    "        \n",
    "        # Get N-O pairs within 1.3 Angstroms and set bond distance to 1.25 Angstroms\n",
    "        pairs = get_pairlist('N', 1.3, self.system, 'O')\n",
    "        for pair in pairs:\n",
    "            self.system.set_distance(pair[0], pair[1], self._no_bond_length, fix=0, mic=True)\n",
    "            \n",
    "        # Make molecules from atoms based on input pairs list\n",
    "        self._mol_ids = self._makeMolecules(self.system, pairs)\n",
    "        \n",
    "            \n",
    "      \n",
    "    def _makeUnitCell(self,cif_file):\n",
    "        if cif_file:\n",
    "            atoms = read(cif_file)\n",
    "        else:\n",
    "            \n",
    "            atoms = crystal('NaNO', [(0.0,0.0,0.0), \n",
    "                                     (0.0, 0.0, 0.25), \n",
    "                                     (0.2381, 0.0,0.25)], \n",
    "                                      spacegroup='R -3 c', \n",
    "                                      cellpar=self._lat_params)\n",
    "        self._unit_cell = atoms\n",
    "            \n",
    "        '''\n",
    "        # Get N-O pairs within 1.3 Angstroms and set bond distance to 1.25 Angstroms\n",
    "        pairs = get_pairlist('N', 1.3, atoms, 'O')\n",
    "        for pair in pairs:\n",
    "            atoms.set_distance(pair[0], pair[1], self._no_bond_length, fix=0, mic=True)\n",
    "            \n",
    "        # Make molecules from atoms based on input pairs list\n",
    "        mol_ids, cnt = self._makeMolecules(atoms, pairs)\n",
    "        \n",
    "        # Set global\n",
    "        self._molecules_per_unit_cell = cnt\n",
    "        self._mol_ids_unit_cell = list(mol_ids)\n",
    "        \n",
    "        '''\n",
    "        \n",
    "    def _getUnitCell(self):\n",
    "        if not self._unit_cell:\n",
    "            self._makeUnitCell()\n",
    "        return self._unit_cell.copy()\n",
    "    \n",
    "    def _addUnitCell(self,ix,iy,iz):\n",
    "        lat = self._lat_params\n",
    "        vector  = ix*self._unit_cell.cell[0]\n",
    "        vector += iy*self._unit_cell.cell[1]\n",
    "        vector += iz*self._unit_cell.cell[2]\n",
    "        #vector = [ix*lat[0], iy*lat[1], iz*lat[2]]\n",
    "        unitCell = self._getUnitCell()\n",
    "        unitCell.translate(vector)\n",
    "        self.system = self.system + unitCell\n",
    "        \n",
    "    def _makeSuperCell(self):\n",
    "        lat = self._lat_params\n",
    "        sc  = self._supercell\n",
    "        self.system = Atoms(cell=[sc[0]*lat[0],sc[1]*lat[1],sc[2]*lat[2],\n",
    "                                  lat[3], lat[4], lat[5]], \n",
    "                            pbc=[1,1,1])\n",
    "        \n",
    "        ix = 0\n",
    "        iy = 0\n",
    "        iz = 0\n",
    "        for ix in range(sc[0]):\n",
    "            for iy in range(sc[1]):\n",
    "                for iz in range(sc[2]):\n",
    "                    self._addUnitCell(ix,iy,iz)\n",
    "                    #mol_ids = [  mol + self._molecule_counter for mol in self._mol_ids_unit_cell]\n",
    "                    #self._mol_ids += mol_ids\n",
    "                    #self._molecule_counter += self._molecules_per_unit_cell\n",
    "    def _makeMolecules(self,atoms,pairs):\n",
    "        molecule_ids = [None]*len(atoms)\n",
    "        molecule_counter = 1\n",
    "        for atomI in atoms:\n",
    "            list1 = [pair[1] for pair in pairs if atomI.index == pair[0]]\n",
    "            list2 = [pair[0] for pair in pairs if atomI.index == pair[1]]\n",
    "            bonded_list = list1 + list2\n",
    "            if bonded_list:\n",
    "                assigned = [ molecule_ids[i] for i in bonded_list+[atomI.index]]\n",
    "\n",
    "                if not any(assigned):\n",
    "                    for i in bonded_list+[atomI.index]:\n",
    "                        molecule_ids[i] = molecule_counter\n",
    "                    molecule_counter += 1\n",
    "                else:\n",
    "                    molecule_id = set(uid for uid in assigned if uid is not None)\n",
    "                    assert(len(molecule_id) == 1)\n",
    "                    for i in bonded_list+[atomI.index]:\n",
    "                        molecule_ids[i] = list(molecule_id)[0]\n",
    "            else:\n",
    "                if not molecule_ids[atomI.index]:\n",
    "                    molecule_ids[atomI.index] = molecule_counter\n",
    "                molecule_counter += 1\n",
    "        return molecule_ids\n",
    "\n",
    "            \n",
    "    def lammpsParameters(self):\n",
    "        # Simulation Parameters\n",
    "        types = {'Na': 1, 'N': 2, 'O': 3}\n",
    "        \n",
    "        # Force field in units from reference (Table 1)\n",
    "        #    multiples of electron charge\n",
    "        charge_types = {'Na':1.00, 'N':0.95, 'O':-0.65}\n",
    "        charges = [ charge_types[atom.symbol] for atom in self.system ]\n",
    "        \n",
    "        #      a          kJ*mol^-1     Ang^-1       kJ/mol*Ang^6\n",
    "        ff = { 1 : {1 : {'A':3.1696e4, 'rho':3.155, 'B': 101}},\n",
    "               2 : {2 : {'A':1.4080e5, 'rho':3.780, 'B':1084}},\n",
    "               3 : {3 : {'A':2.9250e5, 'rho':4.180, 'B':1085}}\n",
    "             }\n",
    "        \n",
    "        # Conversion to LAMMPS 'real' units\n",
    "        for i in ff:\n",
    "            ff[i][i]['A']   = ff[i][i]['A'] * (kJ/mol) / (kcal/mol) # units: kcal * mol^-1\n",
    "            ff[i][i]['B']   = ff[i][i]['B'] * (kJ/mol) / (kcal/mol) # units: kcal * mol^-1 * Angstrom^6\n",
    "            \n",
    "        # Mixing to get I-J parameters\n",
    "        for i in ff:\n",
    "            for j in ff:\n",
    "                if i != j:\n",
    "                    params_ij = { 'A'   : np.sqrt(ff[i][i]['A']   * ff[j][j]['A']  ),\n",
    "                                  'rho' : np.sqrt(ff[i][i]['rho'] + ff[j][j]['rho']),\n",
    "                                  'B'   : np.sqrt(ff[i][i]['B']   * ff[j][j]['B']  )\n",
    "                                }\n",
    "                    ff[i][j] = params_ij\n",
    "                    \n",
    "        # Invert rho based on definition in LAMMPS being reciprocal of reference\n",
    "        for i in ff:\n",
    "            for j in ff:\n",
    "                ff[i][j]['rho'] = 1.0 / ff[i][j]['rho']\n",
    "                \n",
    "        # Pair_coeff commands\n",
    "        pair_coeff = list()\n",
    "        for pair in itertools.combinations_with_replacement(ff,2):\n",
    "            i = pair[0]\n",
    "            j = pair[1]\n",
    "            pair_coeff.append(\"pair_coeff {0} {1} {A:.4f} {rho:.4f} {B:.4f}\".format(i, j, **ff[i][j]))\n",
    "            \n",
    "\n",
    "        # LAMMPS input\n",
    "        header = ['units real',\n",
    "                  'atom_style full',\n",
    "                  'bond_style harmonic',\n",
    "                  'angle_style harmonic',\n",
    "                  'kspace_style ewald/disp 1.0e-4',\n",
    "                  'special_bonds lj 0.0 0.0 0.0 coul 0.0 0.0 0.0']\n",
    "\n",
    "        cmds  = [\"pair_style buck/long/coul/long long long  10.0\"] + pair_coeff\n",
    "        cmds += [\"bond_coeff * 100.0 1.25\",\n",
    "                 \"angle_coeff * 100.0 120.0\",\n",
    "                 \"group Na type 1\",\n",
    "                 \"fix 1 Na nve\",\n",
    "                 \"group NO3 type 2:3\",\n",
    "                 \"fix 2 NO3 rigid/nve/small molecule\"]\n",
    "\n",
    "        params = { 'types' : types,\n",
    "                   'charges' : charges,\n",
    "                   'commands' : {'header' : header,\n",
    "                                 'body'   : cmds }\n",
    "                 }\n",
    "        return params\n"
   ]
  },
  {
   "cell_type": "code",
   "execution_count": 22,
   "metadata": {
    "collapsed": false,
    "deletable": true,
    "editable": true
   },
   "outputs": [],
   "source": [
    "from ase.visualize import view\n",
    "nano3 = McDonaldNaNO3(supercell=[3,3,1])\n",
    "#view(nano3.system)"
   ]
  },
  {
   "cell_type": "code",
   "execution_count": 23,
   "metadata": {
    "collapsed": false,
    "deletable": true,
    "editable": true
   },
   "outputs": [
    {
     "name": "stdout",
     "output_type": "stream",
     "text": [
      "Bonds:\n",
      "(7, 8) 162\n",
      "(8, 7) 162\n",
      "6 12\n",
      "6 13\n",
      "6 254\n",
      "7 15\n",
      "7 16\n",
      "7 17\n",
      "8 18\n",
      "8 19\n",
      "8 20\n",
      "9 23\n",
      "9 82\n",
      "9 201\n",
      "10 24\n",
      "10 25\n",
      "10 26\n",
      "11 27\n",
      "11 28\n",
      "11 29\n",
      "12 6\n",
      "13 6\n",
      "14 126\n",
      "15 7\n",
      "16 7\n",
      "17 7\n",
      "18 8\n",
      "19 8\n",
      "20 8\n",
      "21 99\n",
      "22 39\n",
      "23 9\n",
      "24 10\n",
      "25 10\n",
      "26 10\n",
      "27 11\n",
      "28 11\n",
      "29 11\n",
      "36 43\n",
      "36 194\n",
      "36 42\n",
      "37 45\n",
      "37 46\n",
      "37 47\n",
      "38 48\n",
      "38 49\n",
      "38 50\n",
      "39 231\n",
      "39 53\n",
      "39 22\n",
      "40 54\n",
      "40 55\n",
      "40 56\n",
      "41 57\n",
      "41 58\n",
      "41 59\n",
      "42 36\n",
      "43 36\n",
      "44 156\n",
      "45 37\n",
      "46 37\n",
      "47 37\n",
      "48 38\n",
      "49 38\n",
      "50 38\n",
      "51 129\n",
      "52 69\n",
      "53 39\n",
      "54 40\n",
      "55 40\n",
      "56 40\n",
      "57 41\n",
      "58 41\n",
      "59 41\n",
      "66 73\n",
      "66 224\n",
      "66 72\n",
      "67 75\n",
      "67 76\n",
      "67 77\n",
      "68 78\n",
      "68 79\n",
      "68 80\n",
      "69 261\n",
      "69 83\n",
      "69 52\n",
      "70 84\n",
      "70 85\n",
      "70 86\n",
      "71 87\n",
      "71 88\n",
      "71 89\n",
      "72 66\n",
      "73 66\n",
      "74 96\n",
      "75 67\n",
      "76 67\n",
      "77 67\n",
      "78 68\n",
      "79 68\n",
      "80 68\n",
      "81 159\n",
      "82 9\n",
      "83 69\n",
      "84 70\n",
      "85 70\n",
      "86 70\n",
      "87 71\n",
      "88 71\n",
      "89 71\n",
      "96 102\n",
      "96 103\n",
      "96 74\n",
      "97 105\n",
      "97 106\n",
      "97 107\n",
      "98 108\n",
      "98 109\n",
      "98 110\n",
      "99 172\n",
      "99 113\n",
      "99 21\n",
      "100 114\n",
      "100 115\n",
      "100 116\n",
      "101 117\n",
      "101 118\n",
      "101 119\n",
      "102 96\n",
      "103 96\n",
      "104 216\n",
      "105 97\n",
      "106 97\n",
      "107 97\n",
      "108 98\n",
      "109 98\n",
      "110 98\n",
      "111 189\n",
      "112 129\n",
      "113 99\n",
      "114 100\n",
      "115 100\n",
      "116 100\n",
      "117 101\n",
      "118 101\n",
      "119 101\n",
      "126 132\n",
      "126 133\n",
      "126 14\n",
      "127 135\n",
      "127 136\n",
      "127 137\n",
      "128 138\n",
      "128 139\n",
      "128 140\n",
      "129 143\n",
      "129 51\n",
      "129 112\n",
      "130 144\n",
      "130 145\n",
      "130 146\n",
      "131 147\n",
      "131 148\n",
      "131 149\n",
      "132 126\n",
      "133 126\n",
      "134 246\n",
      "135 127\n",
      "136 127\n",
      "137 127\n",
      "138 128\n",
      "139 128\n",
      "140 128\n",
      "141 219\n",
      "142 159\n",
      "143 129\n",
      "144 130\n",
      "145 130\n",
      "146 130\n",
      "147 131\n",
      "148 131\n",
      "149 131\n",
      "156 162\n",
      "156 163\n",
      "156 44\n",
      "157 165\n",
      "157 166\n",
      "157 167\n",
      "158 168\n",
      "158 169\n",
      "158 170\n",
      "159 173\n",
      "159 81\n",
      "159 142\n",
      "160 174\n",
      "160 175\n",
      "160 176\n",
      "161 177\n",
      "161 178\n",
      "161 179\n",
      "162 156\n",
      "163 156\n",
      "164 186\n",
      "165 157\n",
      "166 157\n",
      "167 157\n",
      "168 158\n",
      "169 158\n",
      "170 158\n",
      "171 249\n",
      "172 99\n",
      "173 159\n",
      "174 160\n",
      "175 160\n",
      "176 160\n",
      "177 161\n",
      "178 161\n",
      "179 161\n",
      "186 192\n",
      "186 193\n",
      "186 164\n",
      "187 195\n",
      "187 196\n",
      "187 197\n",
      "188 198\n",
      "188 199\n",
      "188 200\n",
      "189 262\n",
      "189 203\n",
      "189 111\n",
      "190 204\n",
      "190 205\n",
      "190 206\n",
      "191 207\n",
      "191 208\n",
      "191 209\n",
      "192 186\n",
      "193 186\n",
      "194 36\n",
      "195 187\n",
      "196 187\n",
      "197 187\n",
      "198 188\n",
      "199 188\n",
      "200 188\n",
      "201 9\n",
      "202 219\n",
      "203 189\n",
      "204 190\n",
      "205 190\n",
      "206 190\n",
      "207 191\n",
      "208 191\n",
      "209 191\n",
      "216 222\n",
      "216 223\n",
      "216 104\n",
      "217 225\n",
      "217 226\n",
      "217 227\n",
      "218 228\n",
      "218 229\n",
      "218 230\n",
      "219 233\n",
      "219 141\n",
      "219 202\n",
      "220 234\n",
      "220 235\n",
      "220 236\n",
      "221 237\n",
      "221 238\n",
      "221 239\n",
      "222 216\n",
      "223 216\n",
      "224 66\n",
      "225 217\n",
      "226 217\n",
      "227 217\n",
      "228 218\n",
      "229 218\n",
      "230 218\n",
      "231 39\n",
      "232 249\n",
      "233 219\n",
      "234 220\n",
      "235 220\n",
      "236 220\n",
      "237 221\n",
      "238 221\n",
      "239 221\n",
      "246 252\n",
      "246 253\n",
      "246 134\n",
      "247 255\n",
      "247 256\n",
      "247 257\n",
      "248 258\n",
      "248 259\n",
      "248 260\n",
      "249 263\n",
      "249 171\n",
      "249 232\n",
      "250 264\n",
      "250 265\n",
      "250 266\n",
      "251 267\n",
      "251 268\n",
      "251 269\n",
      "252 246\n",
      "253 246\n",
      "254 6\n",
      "255 247\n",
      "256 247\n",
      "257 247\n",
      "258 248\n",
      "259 248\n",
      "260 248\n",
      "261 69\n",
      "262 189\n",
      "263 249\n",
      "264 250\n",
      "265 250\n",
      "266 250\n",
      "267 251\n",
      "268 251\n",
      "269 251\n",
      "\n",
      "Angles:\n",
      "(8, 7, 8) 162\n",
      "\n"
     ]
    }
   ],
   "source": [
    "from ase.calculators.lammpslib import write_lammps_data\n",
    "nano3 = McDonaldNaNO3(supercell=[3,3,1])\n",
    "params = nano3.lammpsParameters()\n",
    "system = nano3.system\n",
    "mol_ids = nano3._mol_ids\n",
    "write_lammps_data('config.data',\n",
    "                  system,\n",
    "                  params['types'],\n",
    "                  cutoff=1.5,\n",
    "                  molecule_ids=mol_ids,\n",
    "                  charges=params['charges'],\n",
    "                  bond_types=[(7,8), (8,7)],\n",
    "                  angle_types=[(8,7,8)],\n",
    "                  units='real')"
   ]
  },
  {
   "cell_type": "code",
   "execution_count": 24,
   "metadata": {
    "collapsed": false,
    "deletable": true,
    "editable": true
   },
   "outputs": [],
   "source": [
    "from ase.io import read\n",
    "from ase.visualize import view\n",
    "#check_system = read('config.data', format='lammps-data')\n",
    "#view(check_system)"
   ]
  },
  {
   "cell_type": "markdown",
   "metadata": {
    "collapsed": true,
    "deletable": true,
    "editable": true
   },
   "source": [
    "# PyLammps"
   ]
  },
  {
   "cell_type": "code",
   "execution_count": 25,
   "metadata": {
    "collapsed": false,
    "deletable": true,
    "editable": true
   },
   "outputs": [
    {
     "name": "stdout",
     "output_type": "stream",
     "text": [
      "LAMMPS output is captured by PyLammps wrapper\n"
     ]
    }
   ],
   "source": [
    "#--------------------------------------------------#\n",
    "# PyLammps\n",
    "#--------------------------------------------------#\n",
    "\n",
    "from lammps import IPyLammps\n",
    "\n",
    "L = IPyLammps()"
   ]
  },
  {
   "cell_type": "code",
   "execution_count": 26,
   "metadata": {
    "collapsed": false,
    "deletable": true,
    "editable": true
   },
   "outputs": [
    {
     "data": {
      "text/plain": [
       "[u'Reading data file ...',\n",
       " u'  triclinic box = (0 0 0) to (15.246 13.2034 17.31) with tilt (-7.623 0 0)',\n",
       " u'  1 by 1 by 1 MPI processor grid',\n",
       " u'  reading atoms ...',\n",
       " u'  270 atoms',\n",
       " u'  scanning bonds ...',\n",
       " u'  3 = max bonds/atom',\n",
       " u'  scanning angles ...',\n",
       " u'  3 = max angles/atom',\n",
       " u'  reading bonds ...',\n",
       " u'  162 bonds',\n",
       " u'  reading angles ...',\n",
       " u'  162 angles',\n",
       " u'Finding 1-2 1-3 1-4 neighbors ...',\n",
       " u' Special bond factors lj:   0          0          0         ',\n",
       " u' Special bond factors coul: 0          0          0         ',\n",
       " u'  3 = max # of 1-2 neighbors',\n",
       " u'  2 = max # of 1-3 neighbors',\n",
       " u'  2 = max # of 1-4 neighbors',\n",
       " u'  3 = max # of special neighbors']"
      ]
     },
     "execution_count": 26,
     "metadata": {},
     "output_type": "execute_result"
    }
   ],
   "source": [
    "for cmd in params['commands']['header']:\n",
    "    L.command(cmd)\n",
    "L.read_data('config.data')"
   ]
  },
  {
   "cell_type": "code",
   "execution_count": 27,
   "metadata": {
    "collapsed": false,
    "deletable": true,
    "editable": true
   },
   "outputs": [
    {
     "name": "stdout",
     "output_type": "stream",
     "text": [
      "pair_style buck/long/coul/long long long  10.0\n",
      "pair_coeff 1 1 7575.5258 0.3170 24.1396\n",
      "pair_coeff 1 2 15966.5792 0.3797 79.0831\n",
      "pair_coeff 1 3 23013.0133 0.3692 79.1196\n",
      "pair_coeff 2 2 33652.0076 0.2646 259.0822\n",
      "pair_coeff 2 3 48503.4451 0.3544 259.2017\n",
      "pair_coeff 3 3 69909.1778 0.2392 259.3212\n",
      "bond_coeff * 100.0 1.25\n",
      "angle_coeff * 100.0 120.0\n",
      "group Na type 1\n",
      "fix 1 Na nve\n",
      "group NO3 type 2:3\n",
      "fix 2 NO3 rigid/nve/small molecule\n"
     ]
    }
   ],
   "source": [
    "for cmd in params['commands']['body']:\n",
    "    print cmd"
   ]
  },
  {
   "cell_type": "code",
   "execution_count": 28,
   "metadata": {
    "collapsed": false,
    "deletable": true,
    "editable": true
   },
   "outputs": [],
   "source": [
    "for cmd in params['commands']['body']:\n",
    "    L.command(cmd)"
   ]
  },
  {
   "cell_type": "code",
   "execution_count": 29,
   "metadata": {
    "collapsed": false,
    "deletable": true,
    "editable": true
   },
   "outputs": [],
   "source": [
    "L.command('run 0')\n",
    "L.neighbor(10.0,'bin')\n",
    "\n",
    "L.dump('1 all atom 100  dump.lammpstrj')\n",
    "\n",
    "L.velocity('all create 300.0 2341')\n",
    "\n",
    "L.command('thermo_style custom step time etotal pe ke temp evdwl ecoul epair ebond')\n",
    "L.thermo(100)\n",
    "\n",
    "L.command('compute 3 all pe/atom')\n",
    "L.command('dump 2 all custom 100 dump.pe_atom id c_3 ix iy iz')\n"
   ]
  },
  {
   "cell_type": "code",
   "execution_count": 30,
   "metadata": {
    "collapsed": true,
    "deletable": true,
    "editable": true
   },
   "outputs": [],
   "source": [
    "\n",
    "L.command('run 1000')"
   ]
  },
  {
   "cell_type": "code",
   "execution_count": null,
   "metadata": {
    "collapsed": true,
    "deletable": true,
    "editable": true
   },
   "outputs": [],
   "source": []
  }
 ],
 "metadata": {
  "kernelspec": {
   "display_name": "Python 2",
   "language": "python",
   "name": "python2"
  },
  "language_info": {
   "codemirror_mode": {
    "name": "ipython",
    "version": 2
   },
   "file_extension": ".py",
   "mimetype": "text/x-python",
   "name": "python",
   "nbconvert_exporter": "python",
   "pygments_lexer": "ipython2",
   "version": "2.7.12+"
  }
 },
 "nbformat": 4,
 "nbformat_minor": 2
}
