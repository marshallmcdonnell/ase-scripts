{
 "cells": [
  {
   "cell_type": "markdown",
   "metadata": {},
   "source": [
    "# CaCO3 structures"
   ]
  },
  {
   "cell_type": "code",
   "execution_count": 1,
   "metadata": {
    "collapsed": true
   },
   "outputs": [],
   "source": [
    "from ase.spacegroup import crystal\n",
    "\n",
    "a =  4.99\n",
    "c = 17.0615\n",
    "caco3 = crystal('CaCO3', [(0.0,0.0,0.0), \n",
    "                          (0.0, 0.0, 0.25), \n",
    "                          (0.2578, 0.0, 0.25)], \n",
    "                spacegroup='R -3 c', \n",
    "                cellpar=[a,a,c,90,90,120])"
   ]
  },
  {
   "cell_type": "code",
   "execution_count": 5,
   "metadata": {
    "collapsed": false
   },
   "outputs": [],
   "source": [
    "from ase.visualize import view\n",
    "view(caco3)"
   ]
  },
  {
   "cell_type": "code",
   "execution_count": 17,
   "metadata": {
    "collapsed": true
   },
   "outputs": [],
   "source": [
    "from ase.io import read\n",
    "caco3_cif = read(\"caco3_r3c.cif\")\n",
    "view(caco3_cif)"
   ]
  },
  {
   "cell_type": "markdown",
   "metadata": {},
   "source": [
    "# NaNO3 structures"
   ]
  },
  {
   "cell_type": "code",
   "execution_count": 13,
   "metadata": {
    "collapsed": false
   },
   "outputs": [
    {
     "name": "stdout",
     "output_type": "stream",
     "text": [
      "Low Temp: T = 541K  {'spacegroup': Spacegroup(167, setting=1), 'unit_cell': 'conventional'}\n",
      "High Temp: T = 563K  {'spacegroup': Spacegroup(166, setting=1), 'unit_cell': 'conventional'}\n"
     ]
    }
   ],
   "source": [
    "from ase.spacegroup import crystal\n",
    "from ase.visualize import view\n",
    "# T = 541K\n",
    "a =  5.082\n",
    "c = 17.31\n",
    "nano3_low = crystal('NaNO', [(0.0,0.0,0.0), \n",
    "                          (0.0, 0.0, 0.25), \n",
    "                          (0.2381, 0.0, 0.25)], \n",
    "                spacegroup='R -3 c', \n",
    "                cellpar=[a,a,c,90,90,120])\n",
    "\n",
    "print \"Low Temp: T = 541K \", nano3_low.info\n",
    "\n",
    "# T = 563K\n",
    "\n",
    "a =  5.084\n",
    "c = 8.175\n",
    "nano3_high = crystal('NaNO', [(0.0,0.0,0.0), \n",
    "                          (0.0, 0.0, 0.5), \n",
    "                          (0.2337, 0.0, 0.5)], \n",
    "                spacegroup='R -3 m', \n",
    "                cellpar=[a,a,c,90,90,120])\n",
    "\n",
    "print \"High Temp: T = 563K \", nano3_high.info"
   ]
  },
  {
   "cell_type": "code",
   "execution_count": 31,
   "metadata": {
    "collapsed": false
   },
   "outputs": [],
   "source": [
    "view(nano3_low)"
   ]
  },
  {
   "cell_type": "code",
   "execution_count": 4,
   "metadata": {
    "collapsed": true
   },
   "outputs": [],
   "source": [
    "view(nano3_high)\n"
   ]
  },
  {
   "cell_type": "code",
   "execution_count": 27,
   "metadata": {
    "collapsed": false
   },
   "outputs": [
    {
     "data": {
      "text/plain": [
       "array([11, 11, 11, 11, 11, 11,  7,  7,  7,  7,  7,  7,  8,  8,  8,  8,  8,\n",
       "        8,  8,  8,  8,  8,  8,  8,  8,  8,  8,  8,  8,  8])"
      ]
     },
     "execution_count": 27,
     "metadata": {},
     "output_type": "execute_result"
    }
   ],
   "source": []
  },
  {
   "cell_type": "markdown",
   "metadata": {},
   "source": [
    "# NaNO3 MD model"
   ]
  },
  {
   "cell_type": "code",
   "execution_count": 29,
   "metadata": {
    "collapsed": true
   },
   "outputs": [],
   "source": [
    "class McDonaldNO3(object):\n",
    "    def __init__(self, supercell=[1,1,1], cif_file=None):\n",
    "        self.description = \"Sodim Nitrate model for crystalline odered-disordered transition\"\n",
    "        self.citation = { \"authors\" : [ {\"Last\" : \"Lynden-Bell\", \"First\" : \"R M\"},\n",
    "                                        {\"Last\" : \"Ferrario\", \"First\" : \"M \"},\n",
    "                                        {\"Last\" : \"McDonald\", \"First\" : \"I R\"} ],\n",
    "                          \"journal\" : \"Journal of Physics: Condensed Matter\",\n",
    "                          \"year\" : 1989,\n",
    "                          \"volume\" : 1,\n",
    "                          \"pages\" : 6523-6542\n",
    "                        }\n",
    "        self._supercell = supercell\n",
    "        \n",
    "        self.mol_ids = list()\n",
    "        self.molecule_counter = 0\n",
    "        \n",
    "        if cif_file:\n",
    "            self._unit_cell = read(cif_file)\n",
    "        else:\n",
    "            self._unit_cell = nano3_low = crystal('NaNO', [(0.0,0.0,0.0), \n",
    "                                                           (0.0, 0.0, 0.25), \n",
    "                                                           (0.2381, 0.0, 0.25)], \n",
    "                                             spacegroup='R -3 c', \n",
    "                                             cellpar=[a,a,c,90,90,120])\n",
    "        def _makeSuperCell(self):\n",
    "            lat = self._lat\n",
    "            sc  = self._supercell\n",
    "            self.system = Atoms(cell=[sc[0]*lat,sc[1]*lat,sc[2]*lat], pbc=[1,1,1])\n",
    "            \n",
    "    def lammpsParameters(self):\n",
    "        # Simulation Parameters\n",
    "\n",
    "        eps_ff = 70.60 # units: K\n",
    "        sig_ff =  2.70 # units: Angstrom\n",
    "\n",
    "        eps_ff *= units.kB / (units.kcal/units.mol) # units: kcal/mol\n",
    "\n",
    "        #print(eps_ff,sig_ff)\n",
    "\n",
    "        # LAMMPS input\n",
    "        header = ['units real',\n",
    "                  'atom_style molecular',\n",
    "                  'bond_style harmonic',\n",
    "                  'atom_modify map array sort 0 0']\n",
    "\n",
    "        cmds = [\"pair_style lj/cut 10.0\",\n",
    "                \"pair_coeff * * 0.0 0.0\",\n",
    "                \"pair_coeff 2 2 \"+str(eps_ff)+' '+str(sig_ff),\n",
    "                \"bond_coeff * 100.0 1.565\",\n",
    "                \"fix 1 all nve\",\n",
    "                \"fix 1 all rigid/nve/small molecule\"]\n",
    "\n",
    "        return header, cmds\n"
   ]
  },
  {
   "cell_type": "code",
   "execution_count": 30,
   "metadata": {
    "collapsed": false
   },
   "outputs": [
    {
     "ename": "IndentationError",
     "evalue": "unexpected indent (<ipython-input-30-626c485bf635>, line 2)",
     "output_type": "error",
     "traceback": [
      "\u001b[0;36m  File \u001b[0;32m\"<ipython-input-30-626c485bf635>\"\u001b[0;36m, line \u001b[0;32m2\u001b[0m\n\u001b[0;31m    nano3 = NaNO3(supercell=[1,1,1])\u001b[0m\n\u001b[0m    ^\u001b[0m\n\u001b[0;31mIndentationError\u001b[0m\u001b[0;31m:\u001b[0m unexpected indent\n"
     ]
    }
   ],
   "source": [
    "from ase.calculators.lammpslib import write_lammps_data\n",
    "nano3 = NaNO3(supercell=[1,1,1])\n",
    "header, cms = nano3.lammpsParameters()\n",
    "system = nano3\n",
    "write_lammps_data('config.data',\n",
    "                  molecules,\n",
    "                  {'Na': 1, 'N': 2, 'O': 3},\n",
    "                  cutoff=,\n",
    "                  bond_types=[(7,8)],\n",
    "                  angle_types=[(8,7,8)],\n",
    "                  units='real')"
   ]
  },
  {
   "cell_type": "code",
   "execution_count": 35,
   "metadata": {
    "collapsed": true
   },
   "outputs": [],
   "source": [
    "import numpy as np\n",
    "def determine_grid(cell, radius):\n",
    "    ct = cell.transpose()\n",
    "    a = ct[0]\n",
    "    b = ct[1]\n",
    "    c = ct[2]\n",
    "    al = np.linalg.norm(a)   #vector length\n",
    "    bl = np.linalg.norm(b)\n",
    "    cl = np.linalg.norm(c)\n",
    "    ae = a / al              #unit vectors\n",
    "    be = b / bl\n",
    "    ce = c / cl\n",
    "    ad = np.dot(ae,np.cross(be,ce)) #distance to the bc plane\n",
    "    bd = np.dot(be,np.cross(ce,ae))\n",
    "    cd = np.dot(ce,np.cross(ae,be))\n",
    "    ax = radius / ad        # required length of a vector to contain a sphere of radius \n",
    "    bx = radius / bd\n",
    "    cx = radius / cd\n",
    "    gf = np.array([al/ax, bl/bx, cl/cx])  # required number of grid cells\n",
    "    #print(cell,radius,gf)\n",
    "    #import sys\n",
    "    #sys.exit(1)\n",
    "    return np.floor(gf).astype(int)\n"
   ]
  },
  {
   "cell_type": "code",
   "execution_count": 38,
   "metadata": {
    "collapsed": false
   },
   "outputs": [
    {
     "data": {
      "text/plain": [
       "array([0, 0, 2])"
      ]
     },
     "execution_count": 38,
     "metadata": {},
     "output_type": "execute_result"
    }
   ],
   "source": [
    "\n",
    "determine_grid( nano3_low.cell, 7.0)"
   ]
  },
  {
   "cell_type": "code",
   "execution_count": null,
   "metadata": {
    "collapsed": true
   },
   "outputs": [],
   "source": []
  }
 ],
 "metadata": {
  "kernelspec": {
   "display_name": "Python 2",
   "language": "python",
   "name": "python2"
  },
  "language_info": {
   "codemirror_mode": {
    "name": "ipython",
    "version": 2
   },
   "file_extension": ".py",
   "mimetype": "text/x-python",
   "name": "python",
   "nbconvert_exporter": "python",
   "pygments_lexer": "ipython2",
   "version": "2.7.12"
  }
 },
 "nbformat": 4,
 "nbformat_minor": 2
}
